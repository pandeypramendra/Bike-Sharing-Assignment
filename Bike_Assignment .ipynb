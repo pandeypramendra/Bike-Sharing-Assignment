{
 "cells": [
  {
   "cell_type": "markdown",
   "metadata": {},
   "source": [
    "## Multiple Linear Regression \n",
    "\n",
    "A US bike-sharing provider BoomBikes has recently suffered considerable dips in their revenues due to the ongoing Corona pandemic. The company is finding it very difficult to sustain in the current market scenario. So, it has decided to come up with a mindful business plan to be able to accelerate its revenue as soon as the ongoing lockdown comes to an end, and the economy restores to a healthy state. \n",
    "The company wants to know:\n",
    "\n",
    "- Which variables are significant in predicting the demand for shared bikes.\n",
    "- How well those variables describe the bike demands \n",
    "\n",
    "## Business Goal:\n",
    "You are required to model the demand for shared bikes with the available independent variables. It will be used by the management to understand how exactly the demands vary with different features. They can accordingly manipulate the business strategy to meet the demand levels and meet the customer's expectations. Further, the model will be a good way for management to understand the demand dynamics of a new market. "
   ]
  },
  {
   "cell_type": "markdown",
   "metadata": {},
   "source": [
    "### Importing - important library "
   ]
  },
  {
   "cell_type": "code",
   "execution_count": 1,
   "metadata": {},
   "outputs": [],
   "source": [
    "import warnings \n",
    "warnings.filterwarnings('ignore')\n",
    "\n",
    "import numpy as np, pandas as pd \n",
    "import matplotlib.pyplot as plt \n",
    "import seaborn as sns \n",
    "\n",
    "import statsmodels.api as sm\n",
    "from statsmodels.stats.outliers_influence import variance_inflation_factor\n",
    "\n",
    "import sklearn\n",
    "from sklearn.model_selection import train_test_split\n",
    "from sklearn.preprocessing import MinMaxScaler\n",
    "from sklearn.linear_model import LinearRegression\n",
    "from sklearn.feature_selection import RFE\n",
    "from sklearn.metrics import r2_score\n",
    "\n",
    "\n"
   ]
  },
  {
   "cell_type": "markdown",
   "metadata": {},
   "source": [
    "### Reading the Data file "
   ]
  },
  {
   "cell_type": "code",
   "execution_count": 2,
   "metadata": {},
   "outputs": [],
   "source": [
    "bike=pd.read_csv(\"day.csv\")"
   ]
  },
  {
   "cell_type": "markdown",
   "metadata": {},
   "source": [
    "### Peeping into data and see various informations "
   ]
  },
  {
   "cell_type": "code",
   "execution_count": 3,
   "metadata": {},
   "outputs": [
    {
     "data": {
      "text/html": [
       "<div>\n",
       "<style scoped>\n",
       "    .dataframe tbody tr th:only-of-type {\n",
       "        vertical-align: middle;\n",
       "    }\n",
       "\n",
       "    .dataframe tbody tr th {\n",
       "        vertical-align: top;\n",
       "    }\n",
       "\n",
       "    .dataframe thead th {\n",
       "        text-align: right;\n",
       "    }\n",
       "</style>\n",
       "<table border=\"1\" class=\"dataframe\">\n",
       "  <thead>\n",
       "    <tr style=\"text-align: right;\">\n",
       "      <th></th>\n",
       "      <th>instant</th>\n",
       "      <th>dteday</th>\n",
       "      <th>season</th>\n",
       "      <th>yr</th>\n",
       "      <th>mnth</th>\n",
       "      <th>holiday</th>\n",
       "      <th>weekday</th>\n",
       "      <th>workingday</th>\n",
       "      <th>weathersit</th>\n",
       "      <th>temp</th>\n",
       "      <th>atemp</th>\n",
       "      <th>hum</th>\n",
       "      <th>windspeed</th>\n",
       "      <th>casual</th>\n",
       "      <th>registered</th>\n",
       "      <th>cnt</th>\n",
       "    </tr>\n",
       "  </thead>\n",
       "  <tbody>\n",
       "    <tr>\n",
       "      <th>0</th>\n",
       "      <td>1</td>\n",
       "      <td>01-01-2018</td>\n",
       "      <td>1</td>\n",
       "      <td>0</td>\n",
       "      <td>1</td>\n",
       "      <td>0</td>\n",
       "      <td>1</td>\n",
       "      <td>1</td>\n",
       "      <td>2</td>\n",
       "      <td>14.110847</td>\n",
       "      <td>18.18125</td>\n",
       "      <td>80.5833</td>\n",
       "      <td>10.749882</td>\n",
       "      <td>331</td>\n",
       "      <td>654</td>\n",
       "      <td>985</td>\n",
       "    </tr>\n",
       "    <tr>\n",
       "      <th>1</th>\n",
       "      <td>2</td>\n",
       "      <td>02-01-2018</td>\n",
       "      <td>1</td>\n",
       "      <td>0</td>\n",
       "      <td>1</td>\n",
       "      <td>0</td>\n",
       "      <td>2</td>\n",
       "      <td>1</td>\n",
       "      <td>2</td>\n",
       "      <td>14.902598</td>\n",
       "      <td>17.68695</td>\n",
       "      <td>69.6087</td>\n",
       "      <td>16.652113</td>\n",
       "      <td>131</td>\n",
       "      <td>670</td>\n",
       "      <td>801</td>\n",
       "    </tr>\n",
       "    <tr>\n",
       "      <th>2</th>\n",
       "      <td>3</td>\n",
       "      <td>03-01-2018</td>\n",
       "      <td>1</td>\n",
       "      <td>0</td>\n",
       "      <td>1</td>\n",
       "      <td>0</td>\n",
       "      <td>3</td>\n",
       "      <td>1</td>\n",
       "      <td>1</td>\n",
       "      <td>8.050924</td>\n",
       "      <td>9.47025</td>\n",
       "      <td>43.7273</td>\n",
       "      <td>16.636703</td>\n",
       "      <td>120</td>\n",
       "      <td>1229</td>\n",
       "      <td>1349</td>\n",
       "    </tr>\n",
       "  </tbody>\n",
       "</table>\n",
       "</div>"
      ],
      "text/plain": [
       "   instant      dteday  season  yr  mnth  holiday  weekday  workingday  \\\n",
       "0        1  01-01-2018       1   0     1        0        1           1   \n",
       "1        2  02-01-2018       1   0     1        0        2           1   \n",
       "2        3  03-01-2018       1   0     1        0        3           1   \n",
       "\n",
       "   weathersit       temp     atemp      hum  windspeed  casual  registered  \\\n",
       "0           2  14.110847  18.18125  80.5833  10.749882     331         654   \n",
       "1           2  14.902598  17.68695  69.6087  16.652113     131         670   \n",
       "2           1   8.050924   9.47025  43.7273  16.636703     120        1229   \n",
       "\n",
       "    cnt  \n",
       "0   985  \n",
       "1   801  \n",
       "2  1349  "
      ]
     },
     "execution_count": 3,
     "metadata": {},
     "output_type": "execute_result"
    }
   ],
   "source": [
    "bike.head(3)"
   ]
  },
  {
   "cell_type": "code",
   "execution_count": 4,
   "metadata": {},
   "outputs": [
    {
     "data": {
      "text/plain": [
       "(730, 16)"
      ]
     },
     "execution_count": 4,
     "metadata": {},
     "output_type": "execute_result"
    }
   ],
   "source": [
    "bike.shape"
   ]
  },
  {
   "cell_type": "code",
   "execution_count": 5,
   "metadata": {},
   "outputs": [
    {
     "name": "stdout",
     "output_type": "stream",
     "text": [
      "<class 'pandas.core.frame.DataFrame'>\n",
      "RangeIndex: 730 entries, 0 to 729\n",
      "Data columns (total 16 columns):\n",
      " #   Column      Non-Null Count  Dtype  \n",
      "---  ------      --------------  -----  \n",
      " 0   instant     730 non-null    int64  \n",
      " 1   dteday      730 non-null    object \n",
      " 2   season      730 non-null    int64  \n",
      " 3   yr          730 non-null    int64  \n",
      " 4   mnth        730 non-null    int64  \n",
      " 5   holiday     730 non-null    int64  \n",
      " 6   weekday     730 non-null    int64  \n",
      " 7   workingday  730 non-null    int64  \n",
      " 8   weathersit  730 non-null    int64  \n",
      " 9   temp        730 non-null    float64\n",
      " 10  atemp       730 non-null    float64\n",
      " 11  hum         730 non-null    float64\n",
      " 12  windspeed   730 non-null    float64\n",
      " 13  casual      730 non-null    int64  \n",
      " 14  registered  730 non-null    int64  \n",
      " 15  cnt         730 non-null    int64  \n",
      "dtypes: float64(4), int64(11), object(1)\n",
      "memory usage: 91.4+ KB\n"
     ]
    }
   ],
   "source": [
    "bike.info()"
   ]
  },
  {
   "cell_type": "code",
   "execution_count": 6,
   "metadata": {},
   "outputs": [
    {
     "data": {
      "text/html": [
       "<div>\n",
       "<style scoped>\n",
       "    .dataframe tbody tr th:only-of-type {\n",
       "        vertical-align: middle;\n",
       "    }\n",
       "\n",
       "    .dataframe tbody tr th {\n",
       "        vertical-align: top;\n",
       "    }\n",
       "\n",
       "    .dataframe thead th {\n",
       "        text-align: right;\n",
       "    }\n",
       "</style>\n",
       "<table border=\"1\" class=\"dataframe\">\n",
       "  <thead>\n",
       "    <tr style=\"text-align: right;\">\n",
       "      <th></th>\n",
       "      <th>instant</th>\n",
       "      <th>season</th>\n",
       "      <th>yr</th>\n",
       "      <th>mnth</th>\n",
       "      <th>holiday</th>\n",
       "      <th>weekday</th>\n",
       "      <th>workingday</th>\n",
       "      <th>weathersit</th>\n",
       "      <th>temp</th>\n",
       "      <th>atemp</th>\n",
       "      <th>hum</th>\n",
       "      <th>windspeed</th>\n",
       "      <th>casual</th>\n",
       "      <th>registered</th>\n",
       "      <th>cnt</th>\n",
       "    </tr>\n",
       "  </thead>\n",
       "  <tbody>\n",
       "    <tr>\n",
       "      <th>count</th>\n",
       "      <td>730.000000</td>\n",
       "      <td>730.000000</td>\n",
       "      <td>730.000000</td>\n",
       "      <td>730.000000</td>\n",
       "      <td>730.000000</td>\n",
       "      <td>730.000000</td>\n",
       "      <td>730.000000</td>\n",
       "      <td>730.000000</td>\n",
       "      <td>730.000000</td>\n",
       "      <td>730.000000</td>\n",
       "      <td>730.000000</td>\n",
       "      <td>730.000000</td>\n",
       "      <td>730.000000</td>\n",
       "      <td>730.000000</td>\n",
       "      <td>730.000000</td>\n",
       "    </tr>\n",
       "    <tr>\n",
       "      <th>mean</th>\n",
       "      <td>365.500000</td>\n",
       "      <td>2.498630</td>\n",
       "      <td>0.500000</td>\n",
       "      <td>6.526027</td>\n",
       "      <td>0.028767</td>\n",
       "      <td>2.995890</td>\n",
       "      <td>0.690411</td>\n",
       "      <td>1.394521</td>\n",
       "      <td>20.319259</td>\n",
       "      <td>23.726322</td>\n",
       "      <td>62.765175</td>\n",
       "      <td>12.763620</td>\n",
       "      <td>849.249315</td>\n",
       "      <td>3658.757534</td>\n",
       "      <td>4508.006849</td>\n",
       "    </tr>\n",
       "    <tr>\n",
       "      <th>std</th>\n",
       "      <td>210.877136</td>\n",
       "      <td>1.110184</td>\n",
       "      <td>0.500343</td>\n",
       "      <td>3.450215</td>\n",
       "      <td>0.167266</td>\n",
       "      <td>2.000339</td>\n",
       "      <td>0.462641</td>\n",
       "      <td>0.544807</td>\n",
       "      <td>7.506729</td>\n",
       "      <td>8.150308</td>\n",
       "      <td>14.237589</td>\n",
       "      <td>5.195841</td>\n",
       "      <td>686.479875</td>\n",
       "      <td>1559.758728</td>\n",
       "      <td>1936.011647</td>\n",
       "    </tr>\n",
       "    <tr>\n",
       "      <th>min</th>\n",
       "      <td>1.000000</td>\n",
       "      <td>1.000000</td>\n",
       "      <td>0.000000</td>\n",
       "      <td>1.000000</td>\n",
       "      <td>0.000000</td>\n",
       "      <td>0.000000</td>\n",
       "      <td>0.000000</td>\n",
       "      <td>1.000000</td>\n",
       "      <td>2.424346</td>\n",
       "      <td>3.953480</td>\n",
       "      <td>0.000000</td>\n",
       "      <td>1.500244</td>\n",
       "      <td>2.000000</td>\n",
       "      <td>20.000000</td>\n",
       "      <td>22.000000</td>\n",
       "    </tr>\n",
       "    <tr>\n",
       "      <th>25%</th>\n",
       "      <td>183.250000</td>\n",
       "      <td>2.000000</td>\n",
       "      <td>0.000000</td>\n",
       "      <td>4.000000</td>\n",
       "      <td>0.000000</td>\n",
       "      <td>1.000000</td>\n",
       "      <td>0.000000</td>\n",
       "      <td>1.000000</td>\n",
       "      <td>13.811885</td>\n",
       "      <td>16.889713</td>\n",
       "      <td>52.000000</td>\n",
       "      <td>9.041650</td>\n",
       "      <td>316.250000</td>\n",
       "      <td>2502.250000</td>\n",
       "      <td>3169.750000</td>\n",
       "    </tr>\n",
       "    <tr>\n",
       "      <th>50%</th>\n",
       "      <td>365.500000</td>\n",
       "      <td>3.000000</td>\n",
       "      <td>0.500000</td>\n",
       "      <td>7.000000</td>\n",
       "      <td>0.000000</td>\n",
       "      <td>3.000000</td>\n",
       "      <td>1.000000</td>\n",
       "      <td>1.000000</td>\n",
       "      <td>20.465826</td>\n",
       "      <td>24.368225</td>\n",
       "      <td>62.625000</td>\n",
       "      <td>12.125325</td>\n",
       "      <td>717.000000</td>\n",
       "      <td>3664.500000</td>\n",
       "      <td>4548.500000</td>\n",
       "    </tr>\n",
       "    <tr>\n",
       "      <th>75%</th>\n",
       "      <td>547.750000</td>\n",
       "      <td>3.000000</td>\n",
       "      <td>1.000000</td>\n",
       "      <td>10.000000</td>\n",
       "      <td>0.000000</td>\n",
       "      <td>5.000000</td>\n",
       "      <td>1.000000</td>\n",
       "      <td>2.000000</td>\n",
       "      <td>26.880615</td>\n",
       "      <td>30.445775</td>\n",
       "      <td>72.989575</td>\n",
       "      <td>15.625589</td>\n",
       "      <td>1096.500000</td>\n",
       "      <td>4783.250000</td>\n",
       "      <td>5966.000000</td>\n",
       "    </tr>\n",
       "    <tr>\n",
       "      <th>max</th>\n",
       "      <td>730.000000</td>\n",
       "      <td>4.000000</td>\n",
       "      <td>1.000000</td>\n",
       "      <td>12.000000</td>\n",
       "      <td>1.000000</td>\n",
       "      <td>6.000000</td>\n",
       "      <td>1.000000</td>\n",
       "      <td>3.000000</td>\n",
       "      <td>35.328347</td>\n",
       "      <td>42.044800</td>\n",
       "      <td>97.250000</td>\n",
       "      <td>34.000021</td>\n",
       "      <td>3410.000000</td>\n",
       "      <td>6946.000000</td>\n",
       "      <td>8714.000000</td>\n",
       "    </tr>\n",
       "  </tbody>\n",
       "</table>\n",
       "</div>"
      ],
      "text/plain": [
       "          instant      season          yr        mnth     holiday     weekday  \\\n",
       "count  730.000000  730.000000  730.000000  730.000000  730.000000  730.000000   \n",
       "mean   365.500000    2.498630    0.500000    6.526027    0.028767    2.995890   \n",
       "std    210.877136    1.110184    0.500343    3.450215    0.167266    2.000339   \n",
       "min      1.000000    1.000000    0.000000    1.000000    0.000000    0.000000   \n",
       "25%    183.250000    2.000000    0.000000    4.000000    0.000000    1.000000   \n",
       "50%    365.500000    3.000000    0.500000    7.000000    0.000000    3.000000   \n",
       "75%    547.750000    3.000000    1.000000   10.000000    0.000000    5.000000   \n",
       "max    730.000000    4.000000    1.000000   12.000000    1.000000    6.000000   \n",
       "\n",
       "       workingday  weathersit        temp       atemp         hum   windspeed  \\\n",
       "count  730.000000  730.000000  730.000000  730.000000  730.000000  730.000000   \n",
       "mean     0.690411    1.394521   20.319259   23.726322   62.765175   12.763620   \n",
       "std      0.462641    0.544807    7.506729    8.150308   14.237589    5.195841   \n",
       "min      0.000000    1.000000    2.424346    3.953480    0.000000    1.500244   \n",
       "25%      0.000000    1.000000   13.811885   16.889713   52.000000    9.041650   \n",
       "50%      1.000000    1.000000   20.465826   24.368225   62.625000   12.125325   \n",
       "75%      1.000000    2.000000   26.880615   30.445775   72.989575   15.625589   \n",
       "max      1.000000    3.000000   35.328347   42.044800   97.250000   34.000021   \n",
       "\n",
       "            casual   registered          cnt  \n",
       "count   730.000000   730.000000   730.000000  \n",
       "mean    849.249315  3658.757534  4508.006849  \n",
       "std     686.479875  1559.758728  1936.011647  \n",
       "min       2.000000    20.000000    22.000000  \n",
       "25%     316.250000  2502.250000  3169.750000  \n",
       "50%     717.000000  3664.500000  4548.500000  \n",
       "75%    1096.500000  4783.250000  5966.000000  \n",
       "max    3410.000000  6946.000000  8714.000000  "
      ]
     },
     "execution_count": 6,
     "metadata": {},
     "output_type": "execute_result"
    }
   ],
   "source": [
    "bike.describe()"
   ]
  },
  {
   "cell_type": "markdown",
   "metadata": {},
   "source": [
    "#### by using describe function , we can conclude that Numerical data is good , no big outliers are present .\n"
   ]
  },
  {
   "cell_type": "code",
   "execution_count": 7,
   "metadata": {},
   "outputs": [
    {
     "data": {
      "text/plain": [
       "instant       0\n",
       "dteday        0\n",
       "season        0\n",
       "yr            0\n",
       "mnth          0\n",
       "holiday       0\n",
       "weekday       0\n",
       "workingday    0\n",
       "weathersit    0\n",
       "temp          0\n",
       "atemp         0\n",
       "hum           0\n",
       "windspeed     0\n",
       "casual        0\n",
       "registered    0\n",
       "cnt           0\n",
       "dtype: int64"
      ]
     },
     "execution_count": 7,
     "metadata": {},
     "output_type": "execute_result"
    }
   ],
   "source": [
    "### Checking for missing values/columns\n",
    "\n",
    "bike.isnull().sum()"
   ]
  },
  {
   "cell_type": "markdown",
   "metadata": {},
   "source": [
    "#### No missing values are present in any column"
   ]
  },
  {
   "cell_type": "code",
   "execution_count": 8,
   "metadata": {},
   "outputs": [
    {
     "data": {
      "text/plain": [
       "Index(['instant', 'season', 'yr', 'mnth', 'holiday', 'weekday', 'workingday',\n",
       "       'weathersit', 'casual', 'registered', 'cnt'],\n",
       "      dtype='object')"
      ]
     },
     "execution_count": 8,
     "metadata": {},
     "output_type": "execute_result"
    }
   ],
   "source": [
    "bike.select_dtypes('int64').columns"
   ]
  },
  {
   "cell_type": "code",
   "execution_count": 9,
   "metadata": {},
   "outputs": [
    {
     "data": {
      "text/plain": [
       "Index(['temp', 'atemp', 'hum', 'windspeed'], dtype='object')"
      ]
     },
     "execution_count": 9,
     "metadata": {},
     "output_type": "execute_result"
    }
   ],
   "source": [
    "bike.select_dtypes('float64').columns"
   ]
  },
  {
   "cell_type": "code",
   "execution_count": 10,
   "metadata": {},
   "outputs": [
    {
     "data": {
      "text/plain": [
       "Index(['dteday'], dtype='object')"
      ]
     },
     "execution_count": 10,
     "metadata": {},
     "output_type": "execute_result"
    }
   ],
   "source": [
    "bike.select_dtypes('object').columns"
   ]
  },
  {
   "cell_type": "code",
   "execution_count": 11,
   "metadata": {},
   "outputs": [
    {
     "data": {
      "text/plain": [
       "0      01-01-2018\n",
       "1      02-01-2018\n",
       "2      03-01-2018\n",
       "3      04-01-2018\n",
       "4      05-01-2018\n",
       "          ...    \n",
       "725    27-12-2019\n",
       "726    28-12-2019\n",
       "727    29-12-2019\n",
       "728    30-12-2019\n",
       "729    31-12-2019\n",
       "Name: dteday, Length: 730, dtype: object"
      ]
     },
     "execution_count": 11,
     "metadata": {},
     "output_type": "execute_result"
    }
   ],
   "source": [
    "bike.dteday\n"
   ]
  },
  {
   "cell_type": "markdown",
   "metadata": {},
   "source": [
    "### Visualizing the Data \n",
    "\n",
    "- Scatter Plot for all Numerical Data -to see the relations "
   ]
  },
  {
   "cell_type": "code",
   "execution_count": 12,
   "metadata": {},
   "outputs": [
    {
     "data": {
      "image/png": "[encoded data removed]",
      "text/plain": [
       "<Figure size 900x900 with 30 Axes>"
      ]
     },
     "metadata": {
      "needs_background": "light"
     },
     "output_type": "display_data"
    }
   ],
   "source": [
    "sns.pairplot(data=bike , vars=['cnt', 'temp', 'atemp', 'windspeed', 'hum'] )\n",
    "plt.show()"
   ]
  },
  {
   "cell_type": "markdown",
   "metadata": {},
   "source": [
    "### Inferences \n",
    "- Count is increasing with temperature increase , +ve linear relationship \n",
    "- Count/Bike rental are observed at high feel-like temperature , +ve relationship .\n",
    "- Temperature and humidity is releated , Count is present even in high humidity .\n"
   ]
  },
  {
   "cell_type": "markdown",
   "metadata": {},
   "source": [
    "### Categorical Variables -Visualization \n",
    "\n"
   ]
  },
  {
   "cell_type": "code",
   "execution_count": 13,
   "metadata": {},
   "outputs": [
    {
     "data": {
      "image/png": "[encoded data removed]",
      "text/plain": [
       "<Figure size 1440x720 with 6 Axes>"
      ]
     },
     "metadata": {
      "needs_background": "light"
     },
     "output_type": "display_data"
    }
   ],
   "source": [
    "plt.figure(figsize=(20,10))\n",
    "plt.subplot(2,3,1)\n",
    "sns.boxplot(x='season', y='cnt', data=bike)\n",
    "plt.subplot(2,3,2)\n",
    "sns.boxplot(x='mnth', y='cnt', data=bike)\n",
    "plt.subplot(2,3,3)\n",
    "sns.boxplot(x='holiday', y='cnt', data=bike)\n",
    "plt.subplot(2,3,4)\n",
    "sns.boxplot(x='weathersit', y='cnt', data=bike)\n",
    "plt.subplot(2,3,5)\n",
    "sns.boxplot(x='yr', y='cnt', data=bike)\n",
    "plt.subplot(2,3,6)\n",
    "sns.boxplot(x='weekday', y='cnt', data=bike)\n",
    "plt.show()"
   ]
  },
  {
   "cell_type": "markdown",
   "metadata": {},
   "source": [
    "### Categorical Variables -Visualization -Bar Plot \n"
   ]
  },
  {
   "cell_type": "code",
   "execution_count": 14,
   "metadata": {},
   "outputs": [
    {
     "data": {
      "image/png": "[encoded data removed]",
      "text/plain": [
       "<Figure size 1440x720 with 6 Axes>"
      ]
     },
     "metadata": {
      "needs_background": "light"
     },
     "output_type": "display_data"
    }
   ],
   "source": [
    "plt.figure(figsize=(20,10))\n",
    "plt.subplot(2,3,1)\n",
    "sns.barplot(x='season', y='cnt', data=bike)\n",
    "plt.subplot(2,3,2)\n",
    "sns.barplot(x='mnth', y='cnt', data=bike)\n",
    "plt.subplot(2,3,3)\n",
    "sns.barplot(x='holiday', y='cnt', data=bike)\n",
    "plt.subplot(2,3,4)\n",
    "sns.barplot(x='weathersit', y='cnt', data=bike)\n",
    "plt.subplot(2,3,5)\n",
    "sns.barplot(x='yr', y='cnt', data=bike)\n",
    "plt.subplot(2,3,6)\n",
    "sns.barplot(x='weekday', y='cnt', data=bike)\n",
    "plt.show()"
   ]
  },
  {
   "cell_type": "code",
   "execution_count": 15,
   "metadata": {},
   "outputs": [
    {
     "data": {
      "image/png": "[encoded data removed]",
      "text/plain": [
       "<Figure size 432x288 with 1 Axes>"
      ]
     },
     "metadata": {
      "needs_background": "light"
     },
     "output_type": "display_data"
    }
   ],
   "source": [
    "sns.boxplot(x='workingday', y='cnt', data=bike)\n",
    "plt.show()"
   ]
  },
  {
   "cell_type": "markdown",
   "metadata": {},
   "source": [
    "#### Inferences \n",
    "\n",
    "- Bike Share was increased 2019 \n",
    "- Count values increased in summer Months \n",
    "- Count values less during Holidays \n",
    "- Bike Sharing was minimum in Spring \n",
    "- for weather situation -4- \"Heavy Rain + Ice Pallets + Thunderstorm + Mist, Snow + Fog\" -there is zero count .\n"
   ]
  },
  {
   "cell_type": "markdown",
   "metadata": {},
   "source": [
    "### Data Preparations \n",
    "\n",
    "- Dropping column which seems irrevalant "
   ]
  },
  {
   "cell_type": "code",
   "execution_count": 16,
   "metadata": {},
   "outputs": [],
   "source": [
    "bike.drop(['registered', 'casual', 'dteday', 'instant'], axis=1, inplace=True)"
   ]
  },
  {
   "cell_type": "code",
   "execution_count": 17,
   "metadata": {},
   "outputs": [
    {
     "data": {
      "text/html": [
       "<div>\n",
       "<style scoped>\n",
       "    .dataframe tbody tr th:only-of-type {\n",
       "        vertical-align: middle;\n",
       "    }\n",
       "\n",
       "    .dataframe tbody tr th {\n",
       "        vertical-align: top;\n",
       "    }\n",
       "\n",
       "    .dataframe thead th {\n",
       "        text-align: right;\n",
       "    }\n",
       "</style>\n",
       "<table border=\"1\" class=\"dataframe\">\n",
       "  <thead>\n",
       "    <tr style=\"text-align: right;\">\n",
       "      <th></th>\n",
       "      <th>season</th>\n",
       "      <th>yr</th>\n",
       "      <th>mnth</th>\n",
       "      <th>holiday</th>\n",
       "      <th>weekday</th>\n",
       "      <th>workingday</th>\n",
       "      <th>weathersit</th>\n",
       "      <th>temp</th>\n",
       "      <th>atemp</th>\n",
       "      <th>hum</th>\n",
       "      <th>windspeed</th>\n",
       "      <th>cnt</th>\n",
       "    </tr>\n",
       "  </thead>\n",
       "  <tbody>\n",
       "    <tr>\n",
       "      <th>0</th>\n",
       "      <td>1</td>\n",
       "      <td>0</td>\n",
       "      <td>1</td>\n",
       "      <td>0</td>\n",
       "      <td>1</td>\n",
       "      <td>1</td>\n",
       "      <td>2</td>\n",
       "      <td>14.110847</td>\n",
       "      <td>18.18125</td>\n",
       "      <td>80.5833</td>\n",
       "      <td>10.749882</td>\n",
       "      <td>985</td>\n",
       "    </tr>\n",
       "    <tr>\n",
       "      <th>1</th>\n",
       "      <td>1</td>\n",
       "      <td>0</td>\n",
       "      <td>1</td>\n",
       "      <td>0</td>\n",
       "      <td>2</td>\n",
       "      <td>1</td>\n",
       "      <td>2</td>\n",
       "      <td>14.902598</td>\n",
       "      <td>17.68695</td>\n",
       "      <td>69.6087</td>\n",
       "      <td>16.652113</td>\n",
       "      <td>801</td>\n",
       "    </tr>\n",
       "    <tr>\n",
       "      <th>2</th>\n",
       "      <td>1</td>\n",
       "      <td>0</td>\n",
       "      <td>1</td>\n",
       "      <td>0</td>\n",
       "      <td>3</td>\n",
       "      <td>1</td>\n",
       "      <td>1</td>\n",
       "      <td>8.050924</td>\n",
       "      <td>9.47025</td>\n",
       "      <td>43.7273</td>\n",
       "      <td>16.636703</td>\n",
       "      <td>1349</td>\n",
       "    </tr>\n",
       "  </tbody>\n",
       "</table>\n",
       "</div>"
      ],
      "text/plain": [
       "   season  yr  mnth  holiday  weekday  workingday  weathersit       temp  \\\n",
       "0       1   0     1        0        1           1           2  14.110847   \n",
       "1       1   0     1        0        2           1           2  14.902598   \n",
       "2       1   0     1        0        3           1           1   8.050924   \n",
       "\n",
       "      atemp      hum  windspeed   cnt  \n",
       "0  18.18125  80.5833  10.749882   985  \n",
       "1  17.68695  69.6087  16.652113   801  \n",
       "2   9.47025  43.7273  16.636703  1349  "
      ]
     },
     "execution_count": 17,
     "metadata": {},
     "output_type": "execute_result"
    }
   ],
   "source": [
    "bike.head(3)"
   ]
  },
  {
   "cell_type": "markdown",
   "metadata": {},
   "source": [
    "### Converting Numical variable to categorical data "
   ]
  },
  {
   "cell_type": "code",
   "execution_count": 18,
   "metadata": {},
   "outputs": [],
   "source": [
    "bike.season=bike.season.map({1:'Spring', 2: 'Summer', 3:'Fall', 4:'Winter'})\n"
   ]
  },
  {
   "cell_type": "code",
   "execution_count": 19,
   "metadata": {},
   "outputs": [],
   "source": [
    "bike.weathersit=bike.weathersit.map({1:'Clear', 2 :'Mist & Cloudy', 3 :'Light Snow & Rain', 4:'Heavy Snow & Rain'})"
   ]
  },
  {
   "cell_type": "code",
   "execution_count": 20,
   "metadata": {},
   "outputs": [],
   "source": [
    "import calendar \n",
    "\n",
    "bike['mnth']=bike['mnth'].apply(lambda x : calendar.month_abbr[x])"
   ]
  },
  {
   "cell_type": "code",
   "execution_count": 21,
   "metadata": {},
   "outputs": [],
   "source": [
    "bike.weekday=bike.weekday.map({0:\"Sunday\", 1:\"Monday\", 2:\"Tuesday\", 3: \"Wednesday\", 4: \"Thrusday\", 5:\"Friday\", 6:\"Saturday\"})\n"
   ]
  },
  {
   "cell_type": "code",
   "execution_count": 22,
   "metadata": {},
   "outputs": [
    {
     "data": {
      "text/html": [
       "<div>\n",
       "<style scoped>\n",
       "    .dataframe tbody tr th:only-of-type {\n",
       "        vertical-align: middle;\n",
       "    }\n",
       "\n",
       "    .dataframe tbody tr th {\n",
       "        vertical-align: top;\n",
       "    }\n",
       "\n",
       "    .dataframe thead th {\n",
       "        text-align: right;\n",
       "    }\n",
       "</style>\n",
       "<table border=\"1\" class=\"dataframe\">\n",
       "  <thead>\n",
       "    <tr style=\"text-align: right;\">\n",
       "      <th></th>\n",
       "      <th>season</th>\n",
       "      <th>yr</th>\n",
       "      <th>mnth</th>\n",
       "      <th>holiday</th>\n",
       "      <th>weekday</th>\n",
       "      <th>workingday</th>\n",
       "      <th>weathersit</th>\n",
       "      <th>temp</th>\n",
       "      <th>atemp</th>\n",
       "      <th>hum</th>\n",
       "      <th>windspeed</th>\n",
       "      <th>cnt</th>\n",
       "    </tr>\n",
       "  </thead>\n",
       "  <tbody>\n",
       "    <tr>\n",
       "      <th>0</th>\n",
       "      <td>Spring</td>\n",
       "      <td>0</td>\n",
       "      <td>Jan</td>\n",
       "      <td>0</td>\n",
       "      <td>Monday</td>\n",
       "      <td>1</td>\n",
       "      <td>Mist &amp; Cloudy</td>\n",
       "      <td>14.110847</td>\n",
       "      <td>18.18125</td>\n",
       "      <td>80.5833</td>\n",
       "      <td>10.749882</td>\n",
       "      <td>985</td>\n",
       "    </tr>\n",
       "    <tr>\n",
       "      <th>1</th>\n",
       "      <td>Spring</td>\n",
       "      <td>0</td>\n",
       "      <td>Jan</td>\n",
       "      <td>0</td>\n",
       "      <td>Tuesday</td>\n",
       "      <td>1</td>\n",
       "      <td>Mist &amp; Cloudy</td>\n",
       "      <td>14.902598</td>\n",
       "      <td>17.68695</td>\n",
       "      <td>69.6087</td>\n",
       "      <td>16.652113</td>\n",
       "      <td>801</td>\n",
       "    </tr>\n",
       "    <tr>\n",
       "      <th>2</th>\n",
       "      <td>Spring</td>\n",
       "      <td>0</td>\n",
       "      <td>Jan</td>\n",
       "      <td>0</td>\n",
       "      <td>Wednesday</td>\n",
       "      <td>1</td>\n",
       "      <td>Clear</td>\n",
       "      <td>8.050924</td>\n",
       "      <td>9.47025</td>\n",
       "      <td>43.7273</td>\n",
       "      <td>16.636703</td>\n",
       "      <td>1349</td>\n",
       "    </tr>\n",
       "  </tbody>\n",
       "</table>\n",
       "</div>"
      ],
      "text/plain": [
       "   season  yr mnth  holiday    weekday  workingday     weathersit       temp  \\\n",
       "0  Spring   0  Jan        0     Monday           1  Mist & Cloudy  14.110847   \n",
       "1  Spring   0  Jan        0    Tuesday           1  Mist & Cloudy  14.902598   \n",
       "2  Spring   0  Jan        0  Wednesday           1          Clear   8.050924   \n",
       "\n",
       "      atemp      hum  windspeed   cnt  \n",
       "0  18.18125  80.5833  10.749882   985  \n",
       "1  17.68695  69.6087  16.652113   801  \n",
       "2   9.47025  43.7273  16.636703  1349  "
      ]
     },
     "execution_count": 22,
     "metadata": {},
     "output_type": "execute_result"
    }
   ],
   "source": [
    "bike.head(3)"
   ]
  },
  {
   "cell_type": "markdown",
   "metadata": {},
   "source": [
    "### Dummy Variables \n",
    "- Creating Dummy Varaible on season, mnth, weathersit, weekday "
   ]
  },
  {
   "cell_type": "code",
   "execution_count": 23,
   "metadata": {},
   "outputs": [],
   "source": [
    "dummy_col =bike[['season', 'weathersit', 'weekday', 'mnth']]"
   ]
  },
  {
   "cell_type": "code",
   "execution_count": 24,
   "metadata": {},
   "outputs": [],
   "source": [
    "dummy=pd.get_dummies(dummy_col, drop_first=True)"
   ]
  },
  {
   "cell_type": "code",
   "execution_count": 25,
   "metadata": {},
   "outputs": [],
   "source": [
    "bike=pd.concat([dummy,bike], axis=1)"
   ]
  },
  {
   "cell_type": "code",
   "execution_count": 26,
   "metadata": {},
   "outputs": [
    {
     "data": {
      "text/html": [
       "<div>\n",
       "<style scoped>\n",
       "    .dataframe tbody tr th:only-of-type {\n",
       "        vertical-align: middle;\n",
       "    }\n",
       "\n",
       "    .dataframe tbody tr th {\n",
       "        vertical-align: top;\n",
       "    }\n",
       "\n",
       "    .dataframe thead th {\n",
       "        text-align: right;\n",
       "    }\n",
       "</style>\n",
       "<table border=\"1\" class=\"dataframe\">\n",
       "  <thead>\n",
       "    <tr style=\"text-align: right;\">\n",
       "      <th></th>\n",
       "      <th>season_Spring</th>\n",
       "      <th>season_Summer</th>\n",
       "      <th>season_Winter</th>\n",
       "      <th>weathersit_Light Snow &amp; Rain</th>\n",
       "      <th>weathersit_Mist &amp; Cloudy</th>\n",
       "      <th>weekday_Monday</th>\n",
       "      <th>weekday_Saturday</th>\n",
       "      <th>weekday_Sunday</th>\n",
       "      <th>weekday_Thrusday</th>\n",
       "      <th>weekday_Tuesday</th>\n",
       "      <th>...</th>\n",
       "      <th>mnth</th>\n",
       "      <th>holiday</th>\n",
       "      <th>weekday</th>\n",
       "      <th>workingday</th>\n",
       "      <th>weathersit</th>\n",
       "      <th>temp</th>\n",
       "      <th>atemp</th>\n",
       "      <th>hum</th>\n",
       "      <th>windspeed</th>\n",
       "      <th>cnt</th>\n",
       "    </tr>\n",
       "  </thead>\n",
       "  <tbody>\n",
       "    <tr>\n",
       "      <th>0</th>\n",
       "      <td>1</td>\n",
       "      <td>0</td>\n",
       "      <td>0</td>\n",
       "      <td>0</td>\n",
       "      <td>1</td>\n",
       "      <td>1</td>\n",
       "      <td>0</td>\n",
       "      <td>0</td>\n",
       "      <td>0</td>\n",
       "      <td>0</td>\n",
       "      <td>...</td>\n",
       "      <td>Jan</td>\n",
       "      <td>0</td>\n",
       "      <td>Monday</td>\n",
       "      <td>1</td>\n",
       "      <td>Mist &amp; Cloudy</td>\n",
       "      <td>14.110847</td>\n",
       "      <td>18.18125</td>\n",
       "      <td>80.5833</td>\n",
       "      <td>10.749882</td>\n",
       "      <td>985</td>\n",
       "    </tr>\n",
       "    <tr>\n",
       "      <th>1</th>\n",
       "      <td>1</td>\n",
       "      <td>0</td>\n",
       "      <td>0</td>\n",
       "      <td>0</td>\n",
       "      <td>1</td>\n",
       "      <td>0</td>\n",
       "      <td>0</td>\n",
       "      <td>0</td>\n",
       "      <td>0</td>\n",
       "      <td>1</td>\n",
       "      <td>...</td>\n",
       "      <td>Jan</td>\n",
       "      <td>0</td>\n",
       "      <td>Tuesday</td>\n",
       "      <td>1</td>\n",
       "      <td>Mist &amp; Cloudy</td>\n",
       "      <td>14.902598</td>\n",
       "      <td>17.68695</td>\n",
       "      <td>69.6087</td>\n",
       "      <td>16.652113</td>\n",
       "      <td>801</td>\n",
       "    </tr>\n",
       "    <tr>\n",
       "      <th>2</th>\n",
       "      <td>1</td>\n",
       "      <td>0</td>\n",
       "      <td>0</td>\n",
       "      <td>0</td>\n",
       "      <td>0</td>\n",
       "      <td>0</td>\n",
       "      <td>0</td>\n",
       "      <td>0</td>\n",
       "      <td>0</td>\n",
       "      <td>0</td>\n",
       "      <td>...</td>\n",
       "      <td>Jan</td>\n",
       "      <td>0</td>\n",
       "      <td>Wednesday</td>\n",
       "      <td>1</td>\n",
       "      <td>Clear</td>\n",
       "      <td>8.050924</td>\n",
       "      <td>9.47025</td>\n",
       "      <td>43.7273</td>\n",
       "      <td>16.636703</td>\n",
       "      <td>1349</td>\n",
       "    </tr>\n",
       "  </tbody>\n",
       "</table>\n",
       "<p>3 rows × 34 columns</p>\n",
       "</div>"
      ],
      "text/plain": [
       "   season_Spring  season_Summer  season_Winter  weathersit_Light Snow & Rain  \\\n",
       "0              1              0              0                             0   \n",
       "1              1              0              0                             0   \n",
       "2              1              0              0                             0   \n",
       "\n",
       "   weathersit_Mist & Cloudy  weekday_Monday  weekday_Saturday  weekday_Sunday  \\\n",
       "0                         1               1                 0               0   \n",
       "1                         1               0                 0               0   \n",
       "2                         0               0                 0               0   \n",
       "\n",
       "   weekday_Thrusday  weekday_Tuesday  ...  mnth  holiday    weekday  \\\n",
       "0                 0                0  ...   Jan        0     Monday   \n",
       "1                 0                1  ...   Jan        0    Tuesday   \n",
       "2                 0                0  ...   Jan        0  Wednesday   \n",
       "\n",
       "   workingday     weathersit       temp     atemp      hum  windspeed   cnt  \n",
       "0           1  Mist & Cloudy  14.110847  18.18125  80.5833  10.749882   985  \n",
       "1           1  Mist & Cloudy  14.902598  17.68695  69.6087  16.652113   801  \n",
       "2           1          Clear   8.050924   9.47025  43.7273  16.636703  1349  \n",
       "\n",
       "[3 rows x 34 columns]"
      ]
     },
     "execution_count": 26,
     "metadata": {},
     "output_type": "execute_result"
    }
   ],
   "source": [
    "bike.head(3)"
   ]
  },
  {
   "cell_type": "code",
   "execution_count": 27,
   "metadata": {},
   "outputs": [],
   "source": [
    "bike.drop(['season', 'mnth', 'weekday', 'weathersit'], axis=1, inplace=True)"
   ]
  },
  {
   "cell_type": "code",
   "execution_count": 28,
   "metadata": {},
   "outputs": [
    {
     "data": {
      "text/html": [
       "<div>\n",
       "<style scoped>\n",
       "    .dataframe tbody tr th:only-of-type {\n",
       "        vertical-align: middle;\n",
       "    }\n",
       "\n",
       "    .dataframe tbody tr th {\n",
       "        vertical-align: top;\n",
       "    }\n",
       "\n",
       "    .dataframe thead th {\n",
       "        text-align: right;\n",
       "    }\n",
       "</style>\n",
       "<table border=\"1\" class=\"dataframe\">\n",
       "  <thead>\n",
       "    <tr style=\"text-align: right;\">\n",
       "      <th></th>\n",
       "      <th>season_Spring</th>\n",
       "      <th>season_Summer</th>\n",
       "      <th>season_Winter</th>\n",
       "      <th>weathersit_Light Snow &amp; Rain</th>\n",
       "      <th>weathersit_Mist &amp; Cloudy</th>\n",
       "      <th>weekday_Monday</th>\n",
       "      <th>weekday_Saturday</th>\n",
       "      <th>weekday_Sunday</th>\n",
       "      <th>weekday_Thrusday</th>\n",
       "      <th>weekday_Tuesday</th>\n",
       "      <th>...</th>\n",
       "      <th>mnth_Oct</th>\n",
       "      <th>mnth_Sep</th>\n",
       "      <th>yr</th>\n",
       "      <th>holiday</th>\n",
       "      <th>workingday</th>\n",
       "      <th>temp</th>\n",
       "      <th>atemp</th>\n",
       "      <th>hum</th>\n",
       "      <th>windspeed</th>\n",
       "      <th>cnt</th>\n",
       "    </tr>\n",
       "  </thead>\n",
       "  <tbody>\n",
       "    <tr>\n",
       "      <th>0</th>\n",
       "      <td>1</td>\n",
       "      <td>0</td>\n",
       "      <td>0</td>\n",
       "      <td>0</td>\n",
       "      <td>1</td>\n",
       "      <td>1</td>\n",
       "      <td>0</td>\n",
       "      <td>0</td>\n",
       "      <td>0</td>\n",
       "      <td>0</td>\n",
       "      <td>...</td>\n",
       "      <td>0</td>\n",
       "      <td>0</td>\n",
       "      <td>0</td>\n",
       "      <td>0</td>\n",
       "      <td>1</td>\n",
       "      <td>14.110847</td>\n",
       "      <td>18.18125</td>\n",
       "      <td>80.5833</td>\n",
       "      <td>10.749882</td>\n",
       "      <td>985</td>\n",
       "    </tr>\n",
       "    <tr>\n",
       "      <th>1</th>\n",
       "      <td>1</td>\n",
       "      <td>0</td>\n",
       "      <td>0</td>\n",
       "      <td>0</td>\n",
       "      <td>1</td>\n",
       "      <td>0</td>\n",
       "      <td>0</td>\n",
       "      <td>0</td>\n",
       "      <td>0</td>\n",
       "      <td>1</td>\n",
       "      <td>...</td>\n",
       "      <td>0</td>\n",
       "      <td>0</td>\n",
       "      <td>0</td>\n",
       "      <td>0</td>\n",
       "      <td>1</td>\n",
       "      <td>14.902598</td>\n",
       "      <td>17.68695</td>\n",
       "      <td>69.6087</td>\n",
       "      <td>16.652113</td>\n",
       "      <td>801</td>\n",
       "    </tr>\n",
       "    <tr>\n",
       "      <th>2</th>\n",
       "      <td>1</td>\n",
       "      <td>0</td>\n",
       "      <td>0</td>\n",
       "      <td>0</td>\n",
       "      <td>0</td>\n",
       "      <td>0</td>\n",
       "      <td>0</td>\n",
       "      <td>0</td>\n",
       "      <td>0</td>\n",
       "      <td>0</td>\n",
       "      <td>...</td>\n",
       "      <td>0</td>\n",
       "      <td>0</td>\n",
       "      <td>0</td>\n",
       "      <td>0</td>\n",
       "      <td>1</td>\n",
       "      <td>8.050924</td>\n",
       "      <td>9.47025</td>\n",
       "      <td>43.7273</td>\n",
       "      <td>16.636703</td>\n",
       "      <td>1349</td>\n",
       "    </tr>\n",
       "  </tbody>\n",
       "</table>\n",
       "<p>3 rows × 30 columns</p>\n",
       "</div>"
      ],
      "text/plain": [
       "   season_Spring  season_Summer  season_Winter  weathersit_Light Snow & Rain  \\\n",
       "0              1              0              0                             0   \n",
       "1              1              0              0                             0   \n",
       "2              1              0              0                             0   \n",
       "\n",
       "   weathersit_Mist & Cloudy  weekday_Monday  weekday_Saturday  weekday_Sunday  \\\n",
       "0                         1               1                 0               0   \n",
       "1                         1               0                 0               0   \n",
       "2                         0               0                 0               0   \n",
       "\n",
       "   weekday_Thrusday  weekday_Tuesday  ...  mnth_Oct  mnth_Sep  yr  holiday  \\\n",
       "0                 0                0  ...         0         0   0        0   \n",
       "1                 0                1  ...         0         0   0        0   \n",
       "2                 0                0  ...         0         0   0        0   \n",
       "\n",
       "   workingday       temp     atemp      hum  windspeed   cnt  \n",
       "0           1  14.110847  18.18125  80.5833  10.749882   985  \n",
       "1           1  14.902598  17.68695  69.6087  16.652113   801  \n",
       "2           1   8.050924   9.47025  43.7273  16.636703  1349  \n",
       "\n",
       "[3 rows x 30 columns]"
      ]
     },
     "execution_count": 28,
     "metadata": {},
     "output_type": "execute_result"
    }
   ],
   "source": [
    "bike.head(3)"
   ]
  },
  {
   "cell_type": "code",
   "execution_count": 29,
   "metadata": {},
   "outputs": [
    {
     "data": {
      "text/plain": [
       "(730, 30)"
      ]
     },
     "execution_count": 29,
     "metadata": {},
     "output_type": "execute_result"
    }
   ],
   "source": [
    "bike.shape"
   ]
  },
  {
   "cell_type": "markdown",
   "metadata": {},
   "source": [
    "### Splitting Data into Training and Test Sets "
   ]
  },
  {
   "cell_type": "code",
   "execution_count": 30,
   "metadata": {},
   "outputs": [],
   "source": [
    "train, test = train_test_split(bike,train_size=0.7, test_size=0.3, random_state=100)"
   ]
  },
  {
   "cell_type": "markdown",
   "metadata": {},
   "source": [
    "### Rescaling the Features "
   ]
  },
  {
   "cell_type": "code",
   "execution_count": 31,
   "metadata": {},
   "outputs": [],
   "source": [
    "scaler=MinMaxScaler()"
   ]
  },
  {
   "cell_type": "markdown",
   "metadata": {},
   "source": [
    "### Apply scaler to all the columns except the dummy variables "
   ]
  },
  {
   "cell_type": "code",
   "execution_count": 32,
   "metadata": {},
   "outputs": [],
   "source": [
    "num_vars=['cnt', 'hum', 'windspeed', 'temp', 'atemp']"
   ]
  },
  {
   "cell_type": "code",
   "execution_count": 33,
   "metadata": {},
   "outputs": [],
   "source": [
    "train[num_vars]=scaler.fit_transform(train[num_vars])"
   ]
  },
  {
   "cell_type": "code",
   "execution_count": 34,
   "metadata": {},
   "outputs": [
    {
     "data": {
      "text/html": [
       "<div>\n",
       "<style scoped>\n",
       "    .dataframe tbody tr th:only-of-type {\n",
       "        vertical-align: middle;\n",
       "    }\n",
       "\n",
       "    .dataframe tbody tr th {\n",
       "        vertical-align: top;\n",
       "    }\n",
       "\n",
       "    .dataframe thead th {\n",
       "        text-align: right;\n",
       "    }\n",
       "</style>\n",
       "<table border=\"1\" class=\"dataframe\">\n",
       "  <thead>\n",
       "    <tr style=\"text-align: right;\">\n",
       "      <th></th>\n",
       "      <th>season_Spring</th>\n",
       "      <th>season_Summer</th>\n",
       "      <th>season_Winter</th>\n",
       "      <th>weathersit_Light Snow &amp; Rain</th>\n",
       "      <th>weathersit_Mist &amp; Cloudy</th>\n",
       "      <th>weekday_Monday</th>\n",
       "      <th>weekday_Saturday</th>\n",
       "      <th>weekday_Sunday</th>\n",
       "      <th>weekday_Thrusday</th>\n",
       "      <th>weekday_Tuesday</th>\n",
       "      <th>...</th>\n",
       "      <th>mnth_Oct</th>\n",
       "      <th>mnth_Sep</th>\n",
       "      <th>yr</th>\n",
       "      <th>holiday</th>\n",
       "      <th>workingday</th>\n",
       "      <th>temp</th>\n",
       "      <th>atemp</th>\n",
       "      <th>hum</th>\n",
       "      <th>windspeed</th>\n",
       "      <th>cnt</th>\n",
       "    </tr>\n",
       "  </thead>\n",
       "  <tbody>\n",
       "    <tr>\n",
       "      <th>653</th>\n",
       "      <td>0</td>\n",
       "      <td>0</td>\n",
       "      <td>1</td>\n",
       "      <td>0</td>\n",
       "      <td>0</td>\n",
       "      <td>0</td>\n",
       "      <td>0</td>\n",
       "      <td>0</td>\n",
       "      <td>0</td>\n",
       "      <td>0</td>\n",
       "      <td>...</td>\n",
       "      <td>1</td>\n",
       "      <td>0</td>\n",
       "      <td>1</td>\n",
       "      <td>0</td>\n",
       "      <td>1</td>\n",
       "      <td>0.509887</td>\n",
       "      <td>0.501133</td>\n",
       "      <td>0.575354</td>\n",
       "      <td>0.300794</td>\n",
       "      <td>0.864243</td>\n",
       "    </tr>\n",
       "    <tr>\n",
       "      <th>576</th>\n",
       "      <td>0</td>\n",
       "      <td>0</td>\n",
       "      <td>0</td>\n",
       "      <td>0</td>\n",
       "      <td>0</td>\n",
       "      <td>0</td>\n",
       "      <td>0</td>\n",
       "      <td>0</td>\n",
       "      <td>0</td>\n",
       "      <td>0</td>\n",
       "      <td>...</td>\n",
       "      <td>0</td>\n",
       "      <td>0</td>\n",
       "      <td>1</td>\n",
       "      <td>0</td>\n",
       "      <td>1</td>\n",
       "      <td>0.815169</td>\n",
       "      <td>0.766351</td>\n",
       "      <td>0.725633</td>\n",
       "      <td>0.264686</td>\n",
       "      <td>0.827658</td>\n",
       "    </tr>\n",
       "    <tr>\n",
       "      <th>426</th>\n",
       "      <td>1</td>\n",
       "      <td>0</td>\n",
       "      <td>0</td>\n",
       "      <td>0</td>\n",
       "      <td>1</td>\n",
       "      <td>0</td>\n",
       "      <td>0</td>\n",
       "      <td>1</td>\n",
       "      <td>0</td>\n",
       "      <td>0</td>\n",
       "      <td>...</td>\n",
       "      <td>0</td>\n",
       "      <td>0</td>\n",
       "      <td>1</td>\n",
       "      <td>0</td>\n",
       "      <td>0</td>\n",
       "      <td>0.442393</td>\n",
       "      <td>0.438975</td>\n",
       "      <td>0.640189</td>\n",
       "      <td>0.255342</td>\n",
       "      <td>0.465255</td>\n",
       "    </tr>\n",
       "  </tbody>\n",
       "</table>\n",
       "<p>3 rows × 30 columns</p>\n",
       "</div>"
      ],
      "text/plain": [
       "     season_Spring  season_Summer  season_Winter  \\\n",
       "653              0              0              1   \n",
       "576              0              0              0   \n",
       "426              1              0              0   \n",
       "\n",
       "     weathersit_Light Snow & Rain  weathersit_Mist & Cloudy  weekday_Monday  \\\n",
       "653                             0                         0               0   \n",
       "576                             0                         0               0   \n",
       "426                             0                         1               0   \n",
       "\n",
       "     weekday_Saturday  weekday_Sunday  weekday_Thrusday  weekday_Tuesday  ...  \\\n",
       "653                 0               0                 0                0  ...   \n",
       "576                 0               0                 0                0  ...   \n",
       "426                 0               1                 0                0  ...   \n",
       "\n",
       "     mnth_Oct  mnth_Sep  yr  holiday  workingday      temp     atemp  \\\n",
       "653         1         0   1        0           1  0.509887  0.501133   \n",
       "576         0         0   1        0           1  0.815169  0.766351   \n",
       "426         0         0   1        0           0  0.442393  0.438975   \n",
       "\n",
       "          hum  windspeed       cnt  \n",
       "653  0.575354   0.300794  0.864243  \n",
       "576  0.725633   0.264686  0.827658  \n",
       "426  0.640189   0.255342  0.465255  \n",
       "\n",
       "[3 rows x 30 columns]"
      ]
     },
     "execution_count": 34,
     "metadata": {},
     "output_type": "execute_result"
    }
   ],
   "source": [
    "train.head(3)"
   ]
  },
  {
   "cell_type": "markdown",
   "metadata": {},
   "source": [
    "###  check for correraltion between Numerical variables Only"
   ]
  },
  {
   "cell_type": "code",
   "execution_count": 35,
   "metadata": {},
   "outputs": [
    {
     "data": {
      "text/plain": [
       "<AxesSubplot:>"
      ]
     },
     "execution_count": 35,
     "metadata": {},
     "output_type": "execute_result"
    },
    {
     "data": {
      "image/png": "[encoded data removed]",
      "text/plain": [
       "<Figure size 432x288 with 2 Axes>"
      ]
     },
     "metadata": {
      "needs_background": "light"
     },
     "output_type": "display_data"
    }
   ],
   "source": [
    "sns.heatmap(train[num_vars].corr(), annot=True, cmap='Greens')"
   ]
  },
  {
   "cell_type": "markdown",
   "metadata": {},
   "source": [
    "### Dividing into X_train and y_train sets for the Model Building \n",
    "\n",
    "- cnt is target variable "
   ]
  },
  {
   "cell_type": "code",
   "execution_count": 36,
   "metadata": {},
   "outputs": [],
   "source": [
    "y_train=train.pop('cnt')\n",
    "X_train=train"
   ]
  },
  {
   "cell_type": "markdown",
   "metadata": {},
   "source": [
    "### Building a Linear Model "
   ]
  },
  {
   "cell_type": "code",
   "execution_count": 37,
   "metadata": {},
   "outputs": [],
   "source": [
    "lm=LinearRegression()"
   ]
  },
  {
   "cell_type": "code",
   "execution_count": 38,
   "metadata": {},
   "outputs": [
    {
     "data": {
      "text/plain": [
       "LinearRegression()"
      ]
     },
     "execution_count": 38,
     "metadata": {},
     "output_type": "execute_result"
    }
   ],
   "source": [
    "lm.fit(X_train,y_train)"
   ]
  },
  {
   "cell_type": "code",
   "execution_count": 39,
   "metadata": {},
   "outputs": [],
   "source": [
    "rfe=RFE(lm,15)"
   ]
  },
  {
   "cell_type": "code",
   "execution_count": 40,
   "metadata": {},
   "outputs": [],
   "source": [
    "rfe=rfe.fit(X_train,y_train)"
   ]
  },
  {
   "cell_type": "code",
   "execution_count": 41,
   "metadata": {},
   "outputs": [
    {
     "data": {
      "text/plain": [
       "[('season_Spring', True, 1),\n",
       " ('season_Summer', True, 1),\n",
       " ('season_Winter', True, 1),\n",
       " ('weathersit_Light Snow & Rain', True, 1),\n",
       " ('weathersit_Mist & Cloudy', True, 1),\n",
       " ('weekday_Monday', False, 9),\n",
       " ('weekday_Saturday', False, 4),\n",
       " ('weekday_Sunday', False, 5),\n",
       " ('weekday_Thrusday', False, 13),\n",
       " ('weekday_Tuesday', False, 8),\n",
       " ('weekday_Wednesday', False, 11),\n",
       " ('mnth_Aug', False, 10),\n",
       " ('mnth_Dec', True, 1),\n",
       " ('mnth_Feb', False, 2),\n",
       " ('mnth_Jan', True, 1),\n",
       " ('mnth_Jul', True, 1),\n",
       " ('mnth_Jun', False, 14),\n",
       " ('mnth_Mar', False, 15),\n",
       " ('mnth_May', False, 7),\n",
       " ('mnth_Nov', True, 1),\n",
       " ('mnth_Oct', False, 12),\n",
       " ('mnth_Sep', True, 1),\n",
       " ('yr', True, 1),\n",
       " ('holiday', True, 1),\n",
       " ('workingday', False, 3),\n",
       " ('temp', True, 1),\n",
       " ('atemp', False, 6),\n",
       " ('hum', True, 1),\n",
       " ('windspeed', True, 1)]"
      ]
     },
     "execution_count": 41,
     "metadata": {},
     "output_type": "execute_result"
    }
   ],
   "source": [
    "list(zip(X_train.columns, rfe.support_,rfe.ranking_))"
   ]
  },
  {
   "cell_type": "markdown",
   "metadata": {},
   "source": [
    "### Chossing All the columns selected by RFE -Recursive Feature Eliminations Method"
   ]
  },
  {
   "cell_type": "code",
   "execution_count": 42,
   "metadata": {},
   "outputs": [],
   "source": [
    "cols=X_train.columns[rfe.support_]"
   ]
  },
  {
   "cell_type": "code",
   "execution_count": 43,
   "metadata": {},
   "outputs": [
    {
     "data": {
      "text/plain": [
       "Index(['season_Spring', 'season_Summer', 'season_Winter',\n",
       "       'weathersit_Light Snow & Rain', 'weathersit_Mist & Cloudy', 'mnth_Dec',\n",
       "       'mnth_Jan', 'mnth_Jul', 'mnth_Nov', 'mnth_Sep', 'yr', 'holiday', 'temp',\n",
       "       'hum', 'windspeed'],\n",
       "      dtype='object')"
      ]
     },
     "execution_count": 43,
     "metadata": {},
     "output_type": "execute_result"
    }
   ],
   "source": [
    "# Contains all the columns  selected by RFE \n",
    "cols "
   ]
  },
  {
   "cell_type": "markdown",
   "metadata": {},
   "source": [
    "### Total colums in X_train"
   ]
  },
  {
   "cell_type": "code",
   "execution_count": 44,
   "metadata": {},
   "outputs": [
    {
     "data": {
      "text/plain": [
       "Index(['season_Spring', 'season_Summer', 'season_Winter',\n",
       "       'weathersit_Light Snow & Rain', 'weathersit_Mist & Cloudy',\n",
       "       'weekday_Monday', 'weekday_Saturday', 'weekday_Sunday',\n",
       "       'weekday_Thrusday', 'weekday_Tuesday', 'weekday_Wednesday', 'mnth_Aug',\n",
       "       'mnth_Dec', 'mnth_Feb', 'mnth_Jan', 'mnth_Jul', 'mnth_Jun', 'mnth_Mar',\n",
       "       'mnth_May', 'mnth_Nov', 'mnth_Oct', 'mnth_Sep', 'yr', 'holiday',\n",
       "       'workingday', 'temp', 'atemp', 'hum', 'windspeed'],\n",
       "      dtype='object')"
      ]
     },
     "execution_count": 44,
     "metadata": {},
     "output_type": "execute_result"
    }
   ],
   "source": [
    "X_train.columns"
   ]
  },
  {
   "cell_type": "markdown",
   "metadata": {},
   "source": [
    "### Select the columns that are neeeded "
   ]
  },
  {
   "cell_type": "code",
   "execution_count": 45,
   "metadata": {},
   "outputs": [
    {
     "data": {
      "text/plain": [
       "Index(['weekday_Monday', 'weekday_Saturday', 'weekday_Sunday',\n",
       "       'weekday_Thrusday', 'weekday_Tuesday', 'weekday_Wednesday', 'mnth_Aug',\n",
       "       'mnth_Feb', 'mnth_Jun', 'mnth_Mar', 'mnth_May', 'mnth_Oct',\n",
       "       'workingday', 'atemp'],\n",
       "      dtype='object')"
      ]
     },
     "execution_count": 45,
     "metadata": {},
     "output_type": "execute_result"
    }
   ],
   "source": [
    "X_train.columns[~rfe.support_]"
   ]
  },
  {
   "cell_type": "markdown",
   "metadata": {},
   "source": [
    "### Creating a new dataframe X_train_rfe with selected column via rfe methods "
   ]
  },
  {
   "cell_type": "code",
   "execution_count": 46,
   "metadata": {},
   "outputs": [],
   "source": [
    "X_train_rfe=X_train[cols]"
   ]
  },
  {
   "cell_type": "code",
   "execution_count": 47,
   "metadata": {},
   "outputs": [],
   "source": [
    "X_train_rfe=sm.add_constant(X_train_rfe)"
   ]
  },
  {
   "cell_type": "markdown",
   "metadata": {},
   "source": [
    "### Creating a model "
   ]
  },
  {
   "cell_type": "code",
   "execution_count": 48,
   "metadata": {},
   "outputs": [],
   "source": [
    "lm=sm.OLS(y_train,X_train_rfe).fit()"
   ]
  },
  {
   "cell_type": "code",
   "execution_count": 49,
   "metadata": {},
   "outputs": [
    {
     "data": {
      "text/html": [
       "<table class=\"simpletable\">\n",
       "<caption>OLS Regression Results</caption>\n",
       "<tr>\n",
       "  <th>Dep. Variable:</th>           <td>cnt</td>       <th>  R-squared:         </th> <td>   0.845</td> \n",
       "</tr>\n",
       "<tr>\n",
       "  <th>Model:</th>                   <td>OLS</td>       <th>  Adj. R-squared:    </th> <td>   0.841</td> \n",
       "</tr>\n",
       "<tr>\n",
       "  <th>Method:</th>             <td>Least Squares</td>  <th>  F-statistic:       </th> <td>   180.2</td> \n",
       "</tr>\n",
       "<tr>\n",
       "  <th>Date:</th>             <td>Sun, 02 May 2021</td> <th>  Prob (F-statistic):</th> <td>3.34e-189</td>\n",
       "</tr>\n",
       "<tr>\n",
       "  <th>Time:</th>                 <td>00:02:30</td>     <th>  Log-Likelihood:    </th> <td>  514.72</td> \n",
       "</tr>\n",
       "<tr>\n",
       "  <th>No. Observations:</th>      <td>   510</td>      <th>  AIC:               </th> <td>  -997.4</td> \n",
       "</tr>\n",
       "<tr>\n",
       "  <th>Df Residuals:</th>          <td>   494</td>      <th>  BIC:               </th> <td>  -929.7</td> \n",
       "</tr>\n",
       "<tr>\n",
       "  <th>Df Model:</th>              <td>    15</td>      <th>                     </th>     <td> </td>    \n",
       "</tr>\n",
       "<tr>\n",
       "  <th>Covariance Type:</th>      <td>nonrobust</td>    <th>                     </th>     <td> </td>    \n",
       "</tr>\n",
       "</table>\n",
       "<table class=\"simpletable\">\n",
       "<tr>\n",
       "                <td></td>                  <th>coef</th>     <th>std err</th>      <th>t</th>      <th>P>|t|</th>  <th>[0.025</th>    <th>0.975]</th>  \n",
       "</tr>\n",
       "<tr>\n",
       "  <th>const</th>                        <td>    0.3202</td> <td>    0.036</td> <td>    8.886</td> <td> 0.000</td> <td>    0.249</td> <td>    0.391</td>\n",
       "</tr>\n",
       "<tr>\n",
       "  <th>season_Spring</th>                <td>   -0.0617</td> <td>    0.021</td> <td>   -2.907</td> <td> 0.004</td> <td>   -0.103</td> <td>   -0.020</td>\n",
       "</tr>\n",
       "<tr>\n",
       "  <th>season_Summer</th>                <td>    0.0408</td> <td>    0.015</td> <td>    2.659</td> <td> 0.008</td> <td>    0.011</td> <td>    0.071</td>\n",
       "</tr>\n",
       "<tr>\n",
       "  <th>season_Winter</th>                <td>    0.1034</td> <td>    0.018</td> <td>    5.763</td> <td> 0.000</td> <td>    0.068</td> <td>    0.139</td>\n",
       "</tr>\n",
       "<tr>\n",
       "  <th>weathersit_Light Snow & Rain</th> <td>   -0.2481</td> <td>    0.026</td> <td>   -9.402</td> <td> 0.000</td> <td>   -0.300</td> <td>   -0.196</td>\n",
       "</tr>\n",
       "<tr>\n",
       "  <th>weathersit_Mist & Cloudy</th>     <td>   -0.0559</td> <td>    0.010</td> <td>   -5.338</td> <td> 0.000</td> <td>   -0.076</td> <td>   -0.035</td>\n",
       "</tr>\n",
       "<tr>\n",
       "  <th>mnth_Dec</th>                     <td>   -0.0372</td> <td>    0.017</td> <td>   -2.131</td> <td> 0.034</td> <td>   -0.071</td> <td>   -0.003</td>\n",
       "</tr>\n",
       "<tr>\n",
       "  <th>mnth_Jan</th>                     <td>   -0.0437</td> <td>    0.018</td> <td>   -2.415</td> <td> 0.016</td> <td>   -0.079</td> <td>   -0.008</td>\n",
       "</tr>\n",
       "<tr>\n",
       "  <th>mnth_Jul</th>                     <td>   -0.0555</td> <td>    0.018</td> <td>   -3.046</td> <td> 0.002</td> <td>   -0.091</td> <td>   -0.020</td>\n",
       "</tr>\n",
       "<tr>\n",
       "  <th>mnth_Nov</th>                     <td>   -0.0409</td> <td>    0.019</td> <td>   -2.187</td> <td> 0.029</td> <td>   -0.078</td> <td>   -0.004</td>\n",
       "</tr>\n",
       "<tr>\n",
       "  <th>mnth_Sep</th>                     <td>    0.0749</td> <td>    0.017</td> <td>    4.438</td> <td> 0.000</td> <td>    0.042</td> <td>    0.108</td>\n",
       "</tr>\n",
       "<tr>\n",
       "  <th>yr</th>                           <td>    0.2303</td> <td>    0.008</td> <td>   28.511</td> <td> 0.000</td> <td>    0.214</td> <td>    0.246</td>\n",
       "</tr>\n",
       "<tr>\n",
       "  <th>holiday</th>                      <td>   -0.0912</td> <td>    0.026</td> <td>   -3.566</td> <td> 0.000</td> <td>   -0.141</td> <td>   -0.041</td>\n",
       "</tr>\n",
       "<tr>\n",
       "  <th>temp</th>                         <td>    0.4800</td> <td>    0.037</td> <td>   12.977</td> <td> 0.000</td> <td>    0.407</td> <td>    0.553</td>\n",
       "</tr>\n",
       "<tr>\n",
       "  <th>hum</th>                          <td>   -0.1602</td> <td>    0.038</td> <td>   -4.240</td> <td> 0.000</td> <td>   -0.234</td> <td>   -0.086</td>\n",
       "</tr>\n",
       "<tr>\n",
       "  <th>windspeed</th>                    <td>   -0.1885</td> <td>    0.026</td> <td>   -7.312</td> <td> 0.000</td> <td>   -0.239</td> <td>   -0.138</td>\n",
       "</tr>\n",
       "</table>\n",
       "<table class=\"simpletable\">\n",
       "<tr>\n",
       "  <th>Omnibus:</th>       <td>67.327</td> <th>  Durbin-Watson:     </th> <td>   2.016</td>\n",
       "</tr>\n",
       "<tr>\n",
       "  <th>Prob(Omnibus):</th> <td> 0.000</td> <th>  Jarque-Bera (JB):  </th> <td> 164.896</td>\n",
       "</tr>\n",
       "<tr>\n",
       "  <th>Skew:</th>          <td>-0.684</td> <th>  Prob(JB):          </th> <td>1.56e-36</td>\n",
       "</tr>\n",
       "<tr>\n",
       "  <th>Kurtosis:</th>      <td> 5.427</td> <th>  Cond. No.          </th> <td>    20.8</td>\n",
       "</tr>\n",
       "</table><br/><br/>Notes:<br/>[1] Standard Errors assume that the covariance matrix of the errors is correctly specified."
      ],
      "text/plain": [
       "<class 'statsmodels.iolib.summary.Summary'>\n",
       "\"\"\"\n",
       "                            OLS Regression Results                            \n",
       "==============================================================================\n",
       "Dep. Variable:                    cnt   R-squared:                       0.845\n",
       "Model:                            OLS   Adj. R-squared:                  0.841\n",
       "Method:                 Least Squares   F-statistic:                     180.2\n",
       "Date:                Sun, 02 May 2021   Prob (F-statistic):          3.34e-189\n",
       "Time:                        00:02:30   Log-Likelihood:                 514.72\n",
       "No. Observations:                 510   AIC:                            -997.4\n",
       "Df Residuals:                     494   BIC:                            -929.7\n",
       "Df Model:                          15                                         \n",
       "Covariance Type:            nonrobust                                         \n",
       "================================================================================================\n",
       "                                   coef    std err          t      P>|t|      [0.025      0.975]\n",
       "------------------------------------------------------------------------------------------------\n",
       "const                            0.3202      0.036      8.886      0.000       0.249       0.391\n",
       "season_Spring                   -0.0617      0.021     -2.907      0.004      -0.103      -0.020\n",
       "season_Summer                    0.0408      0.015      2.659      0.008       0.011       0.071\n",
       "season_Winter                    0.1034      0.018      5.763      0.000       0.068       0.139\n",
       "weathersit_Light Snow & Rain    -0.2481      0.026     -9.402      0.000      -0.300      -0.196\n",
       "weathersit_Mist & Cloudy        -0.0559      0.010     -5.338      0.000      -0.076      -0.035\n",
       "mnth_Dec                        -0.0372      0.017     -2.131      0.034      -0.071      -0.003\n",
       "mnth_Jan                        -0.0437      0.018     -2.415      0.016      -0.079      -0.008\n",
       "mnth_Jul                        -0.0555      0.018     -3.046      0.002      -0.091      -0.020\n",
       "mnth_Nov                        -0.0409      0.019     -2.187      0.029      -0.078      -0.004\n",
       "mnth_Sep                         0.0749      0.017      4.438      0.000       0.042       0.108\n",
       "yr                               0.2303      0.008     28.511      0.000       0.214       0.246\n",
       "holiday                         -0.0912      0.026     -3.566      0.000      -0.141      -0.041\n",
       "temp                             0.4800      0.037     12.977      0.000       0.407       0.553\n",
       "hum                             -0.1602      0.038     -4.240      0.000      -0.234      -0.086\n",
       "windspeed                       -0.1885      0.026     -7.312      0.000      -0.239      -0.138\n",
       "==============================================================================\n",
       "Omnibus:                       67.327   Durbin-Watson:                   2.016\n",
       "Prob(Omnibus):                  0.000   Jarque-Bera (JB):              164.896\n",
       "Skew:                          -0.684   Prob(JB):                     1.56e-36\n",
       "Kurtosis:                       5.427   Cond. No.                         20.8\n",
       "==============================================================================\n",
       "\n",
       "Notes:\n",
       "[1] Standard Errors assume that the covariance matrix of the errors is correctly specified.\n",
       "\"\"\""
      ]
     },
     "execution_count": 49,
     "metadata": {},
     "output_type": "execute_result"
    }
   ],
   "source": [
    "lm.summary()\n"
   ]
  },
  {
   "cell_type": "code",
   "execution_count": 50,
   "metadata": {},
   "outputs": [
    {
     "data": {
      "text/plain": [
       "const                           0.320243\n",
       "season_Spring                  -0.061737\n",
       "season_Summer                   0.040767\n",
       "season_Winter                   0.103435\n",
       "weathersit_Light Snow & Rain   -0.248116\n",
       "weathersit_Mist & Cloudy       -0.055876\n",
       "mnth_Dec                       -0.037199\n",
       "mnth_Jan                       -0.043748\n",
       "mnth_Jul                       -0.055495\n",
       "mnth_Nov                       -0.040949\n",
       "mnth_Sep                        0.074891\n",
       "yr                              0.230328\n",
       "holiday                        -0.091228\n",
       "temp                            0.479977\n",
       "hum                            -0.160227\n",
       "windspeed                      -0.188457\n",
       "dtype: float64"
      ]
     },
     "execution_count": 50,
     "metadata": {},
     "output_type": "execute_result"
    }
   ],
   "source": [
    "lm.params"
   ]
  },
  {
   "cell_type": "markdown",
   "metadata": {},
   "source": [
    "#### Model has pretty good R-square and adjusted R-square greater than .80  also no p-value is greater that .05 ."
   ]
  },
  {
   "cell_type": "markdown",
   "metadata": {},
   "source": [
    "### Checking VIF for Multicoliearity "
   ]
  },
  {
   "cell_type": "code",
   "execution_count": 51,
   "metadata": {},
   "outputs": [
    {
     "data": {
      "text/html": [
       "<div>\n",
       "<style scoped>\n",
       "    .dataframe tbody tr th:only-of-type {\n",
       "        vertical-align: middle;\n",
       "    }\n",
       "\n",
       "    .dataframe tbody tr th {\n",
       "        vertical-align: top;\n",
       "    }\n",
       "\n",
       "    .dataframe thead th {\n",
       "        text-align: right;\n",
       "    }\n",
       "</style>\n",
       "<table border=\"1\" class=\"dataframe\">\n",
       "  <thead>\n",
       "    <tr style=\"text-align: right;\">\n",
       "      <th></th>\n",
       "      <th>features</th>\n",
       "      <th>VIF</th>\n",
       "    </tr>\n",
       "  </thead>\n",
       "  <tbody>\n",
       "    <tr>\n",
       "      <th>0</th>\n",
       "      <td>const</td>\n",
       "      <td>82.48</td>\n",
       "    </tr>\n",
       "    <tr>\n",
       "      <th>1</th>\n",
       "      <td>season_Spring</td>\n",
       "      <td>5.27</td>\n",
       "    </tr>\n",
       "    <tr>\n",
       "      <th>13</th>\n",
       "      <td>temp</td>\n",
       "      <td>4.42</td>\n",
       "    </tr>\n",
       "    <tr>\n",
       "      <th>3</th>\n",
       "      <td>season_Winter</td>\n",
       "      <td>3.83</td>\n",
       "    </tr>\n",
       "    <tr>\n",
       "      <th>2</th>\n",
       "      <td>season_Summer</td>\n",
       "      <td>2.76</td>\n",
       "    </tr>\n",
       "    <tr>\n",
       "      <th>14</th>\n",
       "      <td>hum</td>\n",
       "      <td>1.93</td>\n",
       "    </tr>\n",
       "    <tr>\n",
       "      <th>9</th>\n",
       "      <td>mnth_Nov</td>\n",
       "      <td>1.76</td>\n",
       "    </tr>\n",
       "    <tr>\n",
       "      <th>7</th>\n",
       "      <td>mnth_Jan</td>\n",
       "      <td>1.68</td>\n",
       "    </tr>\n",
       "    <tr>\n",
       "      <th>5</th>\n",
       "      <td>weathersit_Mist &amp; Cloudy</td>\n",
       "      <td>1.57</td>\n",
       "    </tr>\n",
       "    <tr>\n",
       "      <th>6</th>\n",
       "      <td>mnth_Dec</td>\n",
       "      <td>1.49</td>\n",
       "    </tr>\n",
       "    <tr>\n",
       "      <th>8</th>\n",
       "      <td>mnth_Jul</td>\n",
       "      <td>1.49</td>\n",
       "    </tr>\n",
       "    <tr>\n",
       "      <th>10</th>\n",
       "      <td>mnth_Sep</td>\n",
       "      <td>1.34</td>\n",
       "    </tr>\n",
       "    <tr>\n",
       "      <th>4</th>\n",
       "      <td>weathersit_Light Snow &amp; Rain</td>\n",
       "      <td>1.26</td>\n",
       "    </tr>\n",
       "    <tr>\n",
       "      <th>15</th>\n",
       "      <td>windspeed</td>\n",
       "      <td>1.21</td>\n",
       "    </tr>\n",
       "    <tr>\n",
       "      <th>11</th>\n",
       "      <td>yr</td>\n",
       "      <td>1.04</td>\n",
       "    </tr>\n",
       "    <tr>\n",
       "      <th>12</th>\n",
       "      <td>holiday</td>\n",
       "      <td>1.03</td>\n",
       "    </tr>\n",
       "  </tbody>\n",
       "</table>\n",
       "</div>"
      ],
      "text/plain": [
       "                        features    VIF\n",
       "0                          const  82.48\n",
       "1                  season_Spring   5.27\n",
       "13                          temp   4.42\n",
       "3                  season_Winter   3.83\n",
       "2                  season_Summer   2.76\n",
       "14                           hum   1.93\n",
       "9                       mnth_Nov   1.76\n",
       "7                       mnth_Jan   1.68\n",
       "5       weathersit_Mist & Cloudy   1.57\n",
       "6                       mnth_Dec   1.49\n",
       "8                       mnth_Jul   1.49\n",
       "10                      mnth_Sep   1.34\n",
       "4   weathersit_Light Snow & Rain   1.26\n",
       "15                     windspeed   1.21\n",
       "11                            yr   1.04\n",
       "12                       holiday   1.03"
      ]
     },
     "execution_count": 51,
     "metadata": {},
     "output_type": "execute_result"
    }
   ],
   "source": [
    "vif=pd.DataFrame()\n",
    "X=X_train_rfe\n",
    "vif['features']=X.columns\n",
    "vif['VIF']=[variance_inflation_factor(X.values, i) for i in range(X.shape[1])]\n",
    "vif['VIF']=round(vif['VIF'],2)\n",
    "vif=vif.sort_values(by=\"VIF\", ascending=False)\n",
    "vif"
   ]
  },
  {
   "cell_type": "markdown",
   "metadata": {},
   "source": [
    "#### In General , VIF should be less than 5 . So we can drop the column which has VIF more than 5."
   ]
  },
  {
   "cell_type": "code",
   "execution_count": 52,
   "metadata": {},
   "outputs": [],
   "source": [
    "X_train_new=X_train_rfe.drop(['const'], axis=1)"
   ]
  },
  {
   "cell_type": "code",
   "execution_count": 53,
   "metadata": {},
   "outputs": [
    {
     "data": {
      "text/html": [
       "<div>\n",
       "<style scoped>\n",
       "    .dataframe tbody tr th:only-of-type {\n",
       "        vertical-align: middle;\n",
       "    }\n",
       "\n",
       "    .dataframe tbody tr th {\n",
       "        vertical-align: top;\n",
       "    }\n",
       "\n",
       "    .dataframe thead th {\n",
       "        text-align: right;\n",
       "    }\n",
       "</style>\n",
       "<table border=\"1\" class=\"dataframe\">\n",
       "  <thead>\n",
       "    <tr style=\"text-align: right;\">\n",
       "      <th></th>\n",
       "      <th>features</th>\n",
       "      <th>VIF</th>\n",
       "    </tr>\n",
       "  </thead>\n",
       "  <tbody>\n",
       "    <tr>\n",
       "      <th>13</th>\n",
       "      <td>hum</td>\n",
       "      <td>30.94</td>\n",
       "    </tr>\n",
       "    <tr>\n",
       "      <th>12</th>\n",
       "      <td>temp</td>\n",
       "      <td>17.80</td>\n",
       "    </tr>\n",
       "    <tr>\n",
       "      <th>14</th>\n",
       "      <td>windspeed</td>\n",
       "      <td>4.72</td>\n",
       "    </tr>\n",
       "    <tr>\n",
       "      <th>0</th>\n",
       "      <td>season_Spring</td>\n",
       "      <td>4.37</td>\n",
       "    </tr>\n",
       "    <tr>\n",
       "      <th>2</th>\n",
       "      <td>season_Winter</td>\n",
       "      <td>4.06</td>\n",
       "    </tr>\n",
       "    <tr>\n",
       "      <th>1</th>\n",
       "      <td>season_Summer</td>\n",
       "      <td>2.81</td>\n",
       "    </tr>\n",
       "    <tr>\n",
       "      <th>4</th>\n",
       "      <td>weathersit_Mist &amp; Cloudy</td>\n",
       "      <td>2.32</td>\n",
       "    </tr>\n",
       "    <tr>\n",
       "      <th>10</th>\n",
       "      <td>yr</td>\n",
       "      <td>2.09</td>\n",
       "    </tr>\n",
       "    <tr>\n",
       "      <th>8</th>\n",
       "      <td>mnth_Nov</td>\n",
       "      <td>1.83</td>\n",
       "    </tr>\n",
       "    <tr>\n",
       "      <th>6</th>\n",
       "      <td>mnth_Jan</td>\n",
       "      <td>1.75</td>\n",
       "    </tr>\n",
       "    <tr>\n",
       "      <th>7</th>\n",
       "      <td>mnth_Jul</td>\n",
       "      <td>1.59</td>\n",
       "    </tr>\n",
       "    <tr>\n",
       "      <th>5</th>\n",
       "      <td>mnth_Dec</td>\n",
       "      <td>1.55</td>\n",
       "    </tr>\n",
       "    <tr>\n",
       "      <th>9</th>\n",
       "      <td>mnth_Sep</td>\n",
       "      <td>1.41</td>\n",
       "    </tr>\n",
       "    <tr>\n",
       "      <th>3</th>\n",
       "      <td>weathersit_Light Snow &amp; Rain</td>\n",
       "      <td>1.28</td>\n",
       "    </tr>\n",
       "    <tr>\n",
       "      <th>11</th>\n",
       "      <td>holiday</td>\n",
       "      <td>1.06</td>\n",
       "    </tr>\n",
       "  </tbody>\n",
       "</table>\n",
       "</div>"
      ],
      "text/plain": [
       "                        features    VIF\n",
       "13                           hum  30.94\n",
       "12                          temp  17.80\n",
       "14                     windspeed   4.72\n",
       "0                  season_Spring   4.37\n",
       "2                  season_Winter   4.06\n",
       "1                  season_Summer   2.81\n",
       "4       weathersit_Mist & Cloudy   2.32\n",
       "10                            yr   2.09\n",
       "8                       mnth_Nov   1.83\n",
       "6                       mnth_Jan   1.75\n",
       "7                       mnth_Jul   1.59\n",
       "5                       mnth_Dec   1.55\n",
       "9                       mnth_Sep   1.41\n",
       "3   weathersit_Light Snow & Rain   1.28\n",
       "11                       holiday   1.06"
      ]
     },
     "execution_count": 53,
     "metadata": {},
     "output_type": "execute_result"
    }
   ],
   "source": [
    "vif=pd.DataFrame()\n",
    "X=X_train_new\n",
    "vif['features']=X.columns\n",
    "vif['VIF']=[variance_inflation_factor(X.values, i) for i in range(X.shape[1])]\n",
    "vif['VIF']=round(vif['VIF'],2)\n",
    "vif=vif.sort_values(by=\"VIF\", ascending=False)\n",
    "vif"
   ]
  },
  {
   "cell_type": "markdown",
   "metadata": {},
   "source": [
    "### Model -2 "
   ]
  },
  {
   "cell_type": "code",
   "execution_count": 54,
   "metadata": {},
   "outputs": [],
   "source": [
    "X_train_new=X_train_new.drop(['hum'], axis=1)"
   ]
  },
  {
   "cell_type": "code",
   "execution_count": 55,
   "metadata": {},
   "outputs": [],
   "source": [
    "# Adding a constant value \n",
    "X_train_lm=sm.add_constant(X_train_new)\n",
    "\n",
    "# create a model to fit \n",
    "\n",
    "lm=sm.OLS(y_train, X_train_lm).fit()"
   ]
  },
  {
   "cell_type": "code",
   "execution_count": 56,
   "metadata": {},
   "outputs": [
    {
     "data": {
      "text/html": [
       "<table class=\"simpletable\">\n",
       "<caption>OLS Regression Results</caption>\n",
       "<tr>\n",
       "  <th>Dep. Variable:</th>           <td>cnt</td>       <th>  R-squared:         </th> <td>   0.840</td> \n",
       "</tr>\n",
       "<tr>\n",
       "  <th>Model:</th>                   <td>OLS</td>       <th>  Adj. R-squared:    </th> <td>   0.835</td> \n",
       "</tr>\n",
       "<tr>\n",
       "  <th>Method:</th>             <td>Least Squares</td>  <th>  F-statistic:       </th> <td>   185.4</td> \n",
       "</tr>\n",
       "<tr>\n",
       "  <th>Date:</th>             <td>Sun, 02 May 2021</td> <th>  Prob (F-statistic):</th> <td>1.57e-186</td>\n",
       "</tr>\n",
       "<tr>\n",
       "  <th>Time:</th>                 <td>00:02:31</td>     <th>  Log-Likelihood:    </th> <td>  505.61</td> \n",
       "</tr>\n",
       "<tr>\n",
       "  <th>No. Observations:</th>      <td>   510</td>      <th>  AIC:               </th> <td>  -981.2</td> \n",
       "</tr>\n",
       "<tr>\n",
       "  <th>Df Residuals:</th>          <td>   495</td>      <th>  BIC:               </th> <td>  -917.7</td> \n",
       "</tr>\n",
       "<tr>\n",
       "  <th>Df Model:</th>              <td>    14</td>      <th>                     </th>     <td> </td>    \n",
       "</tr>\n",
       "<tr>\n",
       "  <th>Covariance Type:</th>      <td>nonrobust</td>    <th>                     </th>     <td> </td>    \n",
       "</tr>\n",
       "</table>\n",
       "<table class=\"simpletable\">\n",
       "<tr>\n",
       "                <td></td>                  <th>coef</th>     <th>std err</th>      <th>t</th>      <th>P>|t|</th>  <th>[0.025</th>    <th>0.975]</th>  \n",
       "</tr>\n",
       "<tr>\n",
       "  <th>const</th>                        <td>    0.2466</td> <td>    0.032</td> <td>    7.679</td> <td> 0.000</td> <td>    0.184</td> <td>    0.310</td>\n",
       "</tr>\n",
       "<tr>\n",
       "  <th>season_Spring</th>                <td>   -0.0716</td> <td>    0.021</td> <td>   -3.337</td> <td> 0.001</td> <td>   -0.114</td> <td>   -0.029</td>\n",
       "</tr>\n",
       "<tr>\n",
       "  <th>season_Summer</th>                <td>    0.0333</td> <td>    0.015</td> <td>    2.148</td> <td> 0.032</td> <td>    0.003</td> <td>    0.064</td>\n",
       "</tr>\n",
       "<tr>\n",
       "  <th>season_Winter</th>                <td>    0.0887</td> <td>    0.018</td> <td>    4.951</td> <td> 0.000</td> <td>    0.053</td> <td>    0.124</td>\n",
       "</tr>\n",
       "<tr>\n",
       "  <th>weathersit_Light Snow & Rain</th> <td>   -0.2929</td> <td>    0.025</td> <td>  -11.908</td> <td> 0.000</td> <td>   -0.341</td> <td>   -0.245</td>\n",
       "</tr>\n",
       "<tr>\n",
       "  <th>weathersit_Mist & Cloudy</th>     <td>   -0.0814</td> <td>    0.009</td> <td>   -9.359</td> <td> 0.000</td> <td>   -0.099</td> <td>   -0.064</td>\n",
       "</tr>\n",
       "<tr>\n",
       "  <th>mnth_Dec</th>                     <td>   -0.0445</td> <td>    0.018</td> <td>   -2.520</td> <td> 0.012</td> <td>   -0.079</td> <td>   -0.010</td>\n",
       "</tr>\n",
       "<tr>\n",
       "  <th>mnth_Jan</th>                     <td>   -0.0503</td> <td>    0.018</td> <td>   -2.738</td> <td> 0.006</td> <td>   -0.086</td> <td>   -0.014</td>\n",
       "</tr>\n",
       "<tr>\n",
       "  <th>mnth_Jul</th>                     <td>   -0.0504</td> <td>    0.018</td> <td>   -2.725</td> <td> 0.007</td> <td>   -0.087</td> <td>   -0.014</td>\n",
       "</tr>\n",
       "<tr>\n",
       "  <th>mnth_Nov</th>                     <td>   -0.0419</td> <td>    0.019</td> <td>   -2.198</td> <td> 0.028</td> <td>   -0.079</td> <td>   -0.004</td>\n",
       "</tr>\n",
       "<tr>\n",
       "  <th>mnth_Sep</th>                     <td>    0.0682</td> <td>    0.017</td> <td>    3.992</td> <td> 0.000</td> <td>    0.035</td> <td>    0.102</td>\n",
       "</tr>\n",
       "<tr>\n",
       "  <th>yr</th>                           <td>    0.2343</td> <td>    0.008</td> <td>   28.709</td> <td> 0.000</td> <td>    0.218</td> <td>    0.250</td>\n",
       "</tr>\n",
       "<tr>\n",
       "  <th>holiday</th>                      <td>   -0.0919</td> <td>    0.026</td> <td>   -3.533</td> <td> 0.000</td> <td>   -0.143</td> <td>   -0.041</td>\n",
       "</tr>\n",
       "<tr>\n",
       "  <th>temp</th>                         <td>    0.4377</td> <td>    0.036</td> <td>   12.083</td> <td> 0.000</td> <td>    0.366</td> <td>    0.509</td>\n",
       "</tr>\n",
       "<tr>\n",
       "  <th>windspeed</th>                    <td>   -0.1586</td> <td>    0.025</td> <td>   -6.290</td> <td> 0.000</td> <td>   -0.208</td> <td>   -0.109</td>\n",
       "</tr>\n",
       "</table>\n",
       "<table class=\"simpletable\">\n",
       "<tr>\n",
       "  <th>Omnibus:</th>       <td>70.031</td> <th>  Durbin-Watson:     </th> <td>   2.013</td>\n",
       "</tr>\n",
       "<tr>\n",
       "  <th>Prob(Omnibus):</th> <td> 0.000</td> <th>  Jarque-Bera (JB):  </th> <td> 175.566</td>\n",
       "</tr>\n",
       "<tr>\n",
       "  <th>Skew:</th>          <td>-0.702</td> <th>  Prob(JB):          </th> <td>7.52e-39</td>\n",
       "</tr>\n",
       "<tr>\n",
       "  <th>Kurtosis:</th>      <td> 5.508</td> <th>  Cond. No.          </th> <td>    18.9</td>\n",
       "</tr>\n",
       "</table><br/><br/>Notes:<br/>[1] Standard Errors assume that the covariance matrix of the errors is correctly specified."
      ],
      "text/plain": [
       "<class 'statsmodels.iolib.summary.Summary'>\n",
       "\"\"\"\n",
       "                            OLS Regression Results                            \n",
       "==============================================================================\n",
       "Dep. Variable:                    cnt   R-squared:                       0.840\n",
       "Model:                            OLS   Adj. R-squared:                  0.835\n",
       "Method:                 Least Squares   F-statistic:                     185.4\n",
       "Date:                Sun, 02 May 2021   Prob (F-statistic):          1.57e-186\n",
       "Time:                        00:02:31   Log-Likelihood:                 505.61\n",
       "No. Observations:                 510   AIC:                            -981.2\n",
       "Df Residuals:                     495   BIC:                            -917.7\n",
       "Df Model:                          14                                         \n",
       "Covariance Type:            nonrobust                                         \n",
       "================================================================================================\n",
       "                                   coef    std err          t      P>|t|      [0.025      0.975]\n",
       "------------------------------------------------------------------------------------------------\n",
       "const                            0.2466      0.032      7.679      0.000       0.184       0.310\n",
       "season_Spring                   -0.0716      0.021     -3.337      0.001      -0.114      -0.029\n",
       "season_Summer                    0.0333      0.015      2.148      0.032       0.003       0.064\n",
       "season_Winter                    0.0887      0.018      4.951      0.000       0.053       0.124\n",
       "weathersit_Light Snow & Rain    -0.2929      0.025    -11.908      0.000      -0.341      -0.245\n",
       "weathersit_Mist & Cloudy        -0.0814      0.009     -9.359      0.000      -0.099      -0.064\n",
       "mnth_Dec                        -0.0445      0.018     -2.520      0.012      -0.079      -0.010\n",
       "mnth_Jan                        -0.0503      0.018     -2.738      0.006      -0.086      -0.014\n",
       "mnth_Jul                        -0.0504      0.018     -2.725      0.007      -0.087      -0.014\n",
       "mnth_Nov                        -0.0419      0.019     -2.198      0.028      -0.079      -0.004\n",
       "mnth_Sep                         0.0682      0.017      3.992      0.000       0.035       0.102\n",
       "yr                               0.2343      0.008     28.709      0.000       0.218       0.250\n",
       "holiday                         -0.0919      0.026     -3.533      0.000      -0.143      -0.041\n",
       "temp                             0.4377      0.036     12.083      0.000       0.366       0.509\n",
       "windspeed                       -0.1586      0.025     -6.290      0.000      -0.208      -0.109\n",
       "==============================================================================\n",
       "Omnibus:                       70.031   Durbin-Watson:                   2.013\n",
       "Prob(Omnibus):                  0.000   Jarque-Bera (JB):              175.566\n",
       "Skew:                          -0.702   Prob(JB):                     7.52e-39\n",
       "Kurtosis:                       5.508   Cond. No.                         18.9\n",
       "==============================================================================\n",
       "\n",
       "Notes:\n",
       "[1] Standard Errors assume that the covariance matrix of the errors is correctly specified.\n",
       "\"\"\""
      ]
     },
     "execution_count": 56,
     "metadata": {},
     "output_type": "execute_result"
    }
   ],
   "source": [
    "lm.summary()"
   ]
  },
  {
   "cell_type": "markdown",
   "metadata": {},
   "source": [
    "### Calculate the VIF again "
   ]
  },
  {
   "cell_type": "code",
   "execution_count": 57,
   "metadata": {},
   "outputs": [
    {
     "data": {
      "text/html": [
       "<div>\n",
       "<style scoped>\n",
       "    .dataframe tbody tr th:only-of-type {\n",
       "        vertical-align: middle;\n",
       "    }\n",
       "\n",
       "    .dataframe tbody tr th {\n",
       "        vertical-align: top;\n",
       "    }\n",
       "\n",
       "    .dataframe thead th {\n",
       "        text-align: right;\n",
       "    }\n",
       "</style>\n",
       "<table border=\"1\" class=\"dataframe\">\n",
       "  <thead>\n",
       "    <tr style=\"text-align: right;\">\n",
       "      <th></th>\n",
       "      <th>features</th>\n",
       "      <th>VIF</th>\n",
       "    </tr>\n",
       "  </thead>\n",
       "  <tbody>\n",
       "    <tr>\n",
       "      <th>12</th>\n",
       "      <td>temp</td>\n",
       "      <td>5.17</td>\n",
       "    </tr>\n",
       "    <tr>\n",
       "      <th>13</th>\n",
       "      <td>windspeed</td>\n",
       "      <td>4.67</td>\n",
       "    </tr>\n",
       "    <tr>\n",
       "      <th>2</th>\n",
       "      <td>season_Winter</td>\n",
       "      <td>2.94</td>\n",
       "    </tr>\n",
       "    <tr>\n",
       "      <th>0</th>\n",
       "      <td>season_Spring</td>\n",
       "      <td>2.89</td>\n",
       "    </tr>\n",
       "    <tr>\n",
       "      <th>1</th>\n",
       "      <td>season_Summer</td>\n",
       "      <td>2.23</td>\n",
       "    </tr>\n",
       "    <tr>\n",
       "      <th>10</th>\n",
       "      <td>yr</td>\n",
       "      <td>2.07</td>\n",
       "    </tr>\n",
       "    <tr>\n",
       "      <th>8</th>\n",
       "      <td>mnth_Nov</td>\n",
       "      <td>1.80</td>\n",
       "    </tr>\n",
       "    <tr>\n",
       "      <th>6</th>\n",
       "      <td>mnth_Jan</td>\n",
       "      <td>1.66</td>\n",
       "    </tr>\n",
       "    <tr>\n",
       "      <th>7</th>\n",
       "      <td>mnth_Jul</td>\n",
       "      <td>1.59</td>\n",
       "    </tr>\n",
       "    <tr>\n",
       "      <th>4</th>\n",
       "      <td>weathersit_Mist &amp; Cloudy</td>\n",
       "      <td>1.56</td>\n",
       "    </tr>\n",
       "    <tr>\n",
       "      <th>5</th>\n",
       "      <td>mnth_Dec</td>\n",
       "      <td>1.46</td>\n",
       "    </tr>\n",
       "    <tr>\n",
       "      <th>9</th>\n",
       "      <td>mnth_Sep</td>\n",
       "      <td>1.35</td>\n",
       "    </tr>\n",
       "    <tr>\n",
       "      <th>3</th>\n",
       "      <td>weathersit_Light Snow &amp; Rain</td>\n",
       "      <td>1.09</td>\n",
       "    </tr>\n",
       "    <tr>\n",
       "      <th>11</th>\n",
       "      <td>holiday</td>\n",
       "      <td>1.06</td>\n",
       "    </tr>\n",
       "  </tbody>\n",
       "</table>\n",
       "</div>"
      ],
      "text/plain": [
       "                        features   VIF\n",
       "12                          temp  5.17\n",
       "13                     windspeed  4.67\n",
       "2                  season_Winter  2.94\n",
       "0                  season_Spring  2.89\n",
       "1                  season_Summer  2.23\n",
       "10                            yr  2.07\n",
       "8                       mnth_Nov  1.80\n",
       "6                       mnth_Jan  1.66\n",
       "7                       mnth_Jul  1.59\n",
       "4       weathersit_Mist & Cloudy  1.56\n",
       "5                       mnth_Dec  1.46\n",
       "9                       mnth_Sep  1.35\n",
       "3   weathersit_Light Snow & Rain  1.09\n",
       "11                       holiday  1.06"
      ]
     },
     "execution_count": 57,
     "metadata": {},
     "output_type": "execute_result"
    }
   ],
   "source": [
    "vif=pd.DataFrame()\n",
    "X=X_train_new\n",
    "vif['features']=X.columns\n",
    "vif['VIF']=[variance_inflation_factor(X.values, i) for i in range(X.shape[1])]\n",
    "vif['VIF']=round(vif['VIF'],2)\n",
    "vif=vif.sort_values(by=\"VIF\", ascending=False)\n",
    "vif"
   ]
  },
  {
   "cell_type": "markdown",
   "metadata": {},
   "source": [
    "### Residual Analsyis of training Data "
   ]
  },
  {
   "cell_type": "code",
   "execution_count": 58,
   "metadata": {},
   "outputs": [],
   "source": [
    "y_train_count=lm.predict(X_train_lm)"
   ]
  },
  {
   "cell_type": "code",
   "execution_count": 59,
   "metadata": {},
   "outputs": [
    {
     "data": {
      "image/png": "[encoded data removed]",
      "text/plain": [
       "<Figure size 432x288 with 1 Axes>"
      ]
     },
     "metadata": {
      "needs_background": "light"
     },
     "output_type": "display_data"
    }
   ],
   "source": [
    "sns.distplot((y_train-y_train_count), bins=25)\n",
    "plt.xlabel('Errors', fontsize=15)\n",
    "plt.title(\"Residual Graph \", fontsize=20)\n",
    "plt.show()"
   ]
  },
  {
   "cell_type": "markdown",
   "metadata": {},
   "source": [
    "### Do preditions using the Model \n",
    "- Apply Scaling on test Sets "
   ]
  },
  {
   "cell_type": "code",
   "execution_count": 60,
   "metadata": {},
   "outputs": [],
   "source": [
    "num_cols=['cnt', 'hum', 'windspeed', 'temp', 'atemp']"
   ]
  },
  {
   "cell_type": "code",
   "execution_count": 61,
   "metadata": {},
   "outputs": [],
   "source": [
    "test[num_cols]=scaler.transform(test[num_cols])"
   ]
  },
  {
   "cell_type": "code",
   "execution_count": 62,
   "metadata": {},
   "outputs": [
    {
     "data": {
      "text/html": [
       "<div>\n",
       "<style scoped>\n",
       "    .dataframe tbody tr th:only-of-type {\n",
       "        vertical-align: middle;\n",
       "    }\n",
       "\n",
       "    .dataframe tbody tr th {\n",
       "        vertical-align: top;\n",
       "    }\n",
       "\n",
       "    .dataframe thead th {\n",
       "        text-align: right;\n",
       "    }\n",
       "</style>\n",
       "<table border=\"1\" class=\"dataframe\">\n",
       "  <thead>\n",
       "    <tr style=\"text-align: right;\">\n",
       "      <th></th>\n",
       "      <th>season_Spring</th>\n",
       "      <th>season_Summer</th>\n",
       "      <th>season_Winter</th>\n",
       "      <th>weathersit_Light Snow &amp; Rain</th>\n",
       "      <th>weathersit_Mist &amp; Cloudy</th>\n",
       "      <th>weekday_Monday</th>\n",
       "      <th>weekday_Saturday</th>\n",
       "      <th>weekday_Sunday</th>\n",
       "      <th>weekday_Thrusday</th>\n",
       "      <th>weekday_Tuesday</th>\n",
       "      <th>...</th>\n",
       "      <th>mnth_Oct</th>\n",
       "      <th>mnth_Sep</th>\n",
       "      <th>yr</th>\n",
       "      <th>holiday</th>\n",
       "      <th>workingday</th>\n",
       "      <th>temp</th>\n",
       "      <th>atemp</th>\n",
       "      <th>hum</th>\n",
       "      <th>windspeed</th>\n",
       "      <th>cnt</th>\n",
       "    </tr>\n",
       "  </thead>\n",
       "  <tbody>\n",
       "    <tr>\n",
       "      <th>count</th>\n",
       "      <td>219.000000</td>\n",
       "      <td>219.000000</td>\n",
       "      <td>219.000000</td>\n",
       "      <td>219.000000</td>\n",
       "      <td>219.000000</td>\n",
       "      <td>219.000000</td>\n",
       "      <td>219.000000</td>\n",
       "      <td>219.000000</td>\n",
       "      <td>219.000000</td>\n",
       "      <td>219.000000</td>\n",
       "      <td>...</td>\n",
       "      <td>219.000000</td>\n",
       "      <td>219.000000</td>\n",
       "      <td>219.000000</td>\n",
       "      <td>219.000000</td>\n",
       "      <td>219.000000</td>\n",
       "      <td>219.000000</td>\n",
       "      <td>219.000000</td>\n",
       "      <td>219.000000</td>\n",
       "      <td>219.000000</td>\n",
       "      <td>219.000000</td>\n",
       "    </tr>\n",
       "    <tr>\n",
       "      <th>mean</th>\n",
       "      <td>0.255708</td>\n",
       "      <td>0.264840</td>\n",
       "      <td>0.232877</td>\n",
       "      <td>0.027397</td>\n",
       "      <td>0.319635</td>\n",
       "      <td>0.118721</td>\n",
       "      <td>0.173516</td>\n",
       "      <td>0.155251</td>\n",
       "      <td>0.141553</td>\n",
       "      <td>0.123288</td>\n",
       "      <td>...</td>\n",
       "      <td>0.082192</td>\n",
       "      <td>0.086758</td>\n",
       "      <td>0.479452</td>\n",
       "      <td>0.036530</td>\n",
       "      <td>0.639269</td>\n",
       "      <td>0.558941</td>\n",
       "      <td>0.532991</td>\n",
       "      <td>0.638508</td>\n",
       "      <td>0.313350</td>\n",
       "      <td>0.520592</td>\n",
       "    </tr>\n",
       "    <tr>\n",
       "      <th>std</th>\n",
       "      <td>0.437258</td>\n",
       "      <td>0.442259</td>\n",
       "      <td>0.423633</td>\n",
       "      <td>0.163612</td>\n",
       "      <td>0.467403</td>\n",
       "      <td>0.324202</td>\n",
       "      <td>0.379560</td>\n",
       "      <td>0.362974</td>\n",
       "      <td>0.349389</td>\n",
       "      <td>0.329520</td>\n",
       "      <td>...</td>\n",
       "      <td>0.275286</td>\n",
       "      <td>0.282125</td>\n",
       "      <td>0.500722</td>\n",
       "      <td>0.188034</td>\n",
       "      <td>0.481313</td>\n",
       "      <td>0.233698</td>\n",
       "      <td>0.217888</td>\n",
       "      <td>0.148974</td>\n",
       "      <td>0.159947</td>\n",
       "      <td>0.218435</td>\n",
       "    </tr>\n",
       "    <tr>\n",
       "      <th>min</th>\n",
       "      <td>0.000000</td>\n",
       "      <td>0.000000</td>\n",
       "      <td>0.000000</td>\n",
       "      <td>0.000000</td>\n",
       "      <td>0.000000</td>\n",
       "      <td>0.000000</td>\n",
       "      <td>0.000000</td>\n",
       "      <td>0.000000</td>\n",
       "      <td>0.000000</td>\n",
       "      <td>0.000000</td>\n",
       "      <td>...</td>\n",
       "      <td>0.000000</td>\n",
       "      <td>0.000000</td>\n",
       "      <td>0.000000</td>\n",
       "      <td>0.000000</td>\n",
       "      <td>0.000000</td>\n",
       "      <td>0.046591</td>\n",
       "      <td>0.025950</td>\n",
       "      <td>0.261915</td>\n",
       "      <td>-0.042808</td>\n",
       "      <td>0.048205</td>\n",
       "    </tr>\n",
       "    <tr>\n",
       "      <th>25%</th>\n",
       "      <td>0.000000</td>\n",
       "      <td>0.000000</td>\n",
       "      <td>0.000000</td>\n",
       "      <td>0.000000</td>\n",
       "      <td>0.000000</td>\n",
       "      <td>0.000000</td>\n",
       "      <td>0.000000</td>\n",
       "      <td>0.000000</td>\n",
       "      <td>0.000000</td>\n",
       "      <td>0.000000</td>\n",
       "      <td>...</td>\n",
       "      <td>0.000000</td>\n",
       "      <td>0.000000</td>\n",
       "      <td>0.000000</td>\n",
       "      <td>0.000000</td>\n",
       "      <td>0.000000</td>\n",
       "      <td>0.354650</td>\n",
       "      <td>0.344751</td>\n",
       "      <td>0.527265</td>\n",
       "      <td>0.198517</td>\n",
       "      <td>0.377531</td>\n",
       "    </tr>\n",
       "    <tr>\n",
       "      <th>50%</th>\n",
       "      <td>0.000000</td>\n",
       "      <td>0.000000</td>\n",
       "      <td>0.000000</td>\n",
       "      <td>0.000000</td>\n",
       "      <td>0.000000</td>\n",
       "      <td>0.000000</td>\n",
       "      <td>0.000000</td>\n",
       "      <td>0.000000</td>\n",
       "      <td>0.000000</td>\n",
       "      <td>0.000000</td>\n",
       "      <td>...</td>\n",
       "      <td>0.000000</td>\n",
       "      <td>0.000000</td>\n",
       "      <td>0.000000</td>\n",
       "      <td>0.000000</td>\n",
       "      <td>1.000000</td>\n",
       "      <td>0.558691</td>\n",
       "      <td>0.549198</td>\n",
       "      <td>0.627737</td>\n",
       "      <td>0.299459</td>\n",
       "      <td>0.524275</td>\n",
       "    </tr>\n",
       "    <tr>\n",
       "      <th>75%</th>\n",
       "      <td>1.000000</td>\n",
       "      <td>1.000000</td>\n",
       "      <td>0.000000</td>\n",
       "      <td>0.000000</td>\n",
       "      <td>1.000000</td>\n",
       "      <td>0.000000</td>\n",
       "      <td>0.000000</td>\n",
       "      <td>0.000000</td>\n",
       "      <td>0.000000</td>\n",
       "      <td>0.000000</td>\n",
       "      <td>...</td>\n",
       "      <td>0.000000</td>\n",
       "      <td>0.000000</td>\n",
       "      <td>1.000000</td>\n",
       "      <td>0.000000</td>\n",
       "      <td>1.000000</td>\n",
       "      <td>0.759096</td>\n",
       "      <td>0.714132</td>\n",
       "      <td>0.743928</td>\n",
       "      <td>0.403048</td>\n",
       "      <td>0.672745</td>\n",
       "    </tr>\n",
       "    <tr>\n",
       "      <th>max</th>\n",
       "      <td>1.000000</td>\n",
       "      <td>1.000000</td>\n",
       "      <td>1.000000</td>\n",
       "      <td>1.000000</td>\n",
       "      <td>1.000000</td>\n",
       "      <td>1.000000</td>\n",
       "      <td>1.000000</td>\n",
       "      <td>1.000000</td>\n",
       "      <td>1.000000</td>\n",
       "      <td>1.000000</td>\n",
       "      <td>...</td>\n",
       "      <td>1.000000</td>\n",
       "      <td>1.000000</td>\n",
       "      <td>1.000000</td>\n",
       "      <td>1.000000</td>\n",
       "      <td>1.000000</td>\n",
       "      <td>0.984424</td>\n",
       "      <td>0.980934</td>\n",
       "      <td>1.002146</td>\n",
       "      <td>0.807474</td>\n",
       "      <td>0.963300</td>\n",
       "    </tr>\n",
       "  </tbody>\n",
       "</table>\n",
       "<p>8 rows × 30 columns</p>\n",
       "</div>"
      ],
      "text/plain": [
       "       season_Spring  season_Summer  season_Winter  \\\n",
       "count     219.000000     219.000000     219.000000   \n",
       "mean        0.255708       0.264840       0.232877   \n",
       "std         0.437258       0.442259       0.423633   \n",
       "min         0.000000       0.000000       0.000000   \n",
       "25%         0.000000       0.000000       0.000000   \n",
       "50%         0.000000       0.000000       0.000000   \n",
       "75%         1.000000       1.000000       0.000000   \n",
       "max         1.000000       1.000000       1.000000   \n",
       "\n",
       "       weathersit_Light Snow & Rain  weathersit_Mist & Cloudy  weekday_Monday  \\\n",
       "count                    219.000000                219.000000      219.000000   \n",
       "mean                       0.027397                  0.319635        0.118721   \n",
       "std                        0.163612                  0.467403        0.324202   \n",
       "min                        0.000000                  0.000000        0.000000   \n",
       "25%                        0.000000                  0.000000        0.000000   \n",
       "50%                        0.000000                  0.000000        0.000000   \n",
       "75%                        0.000000                  1.000000        0.000000   \n",
       "max                        1.000000                  1.000000        1.000000   \n",
       "\n",
       "       weekday_Saturday  weekday_Sunday  weekday_Thrusday  weekday_Tuesday  \\\n",
       "count        219.000000      219.000000        219.000000       219.000000   \n",
       "mean           0.173516        0.155251          0.141553         0.123288   \n",
       "std            0.379560        0.362974          0.349389         0.329520   \n",
       "min            0.000000        0.000000          0.000000         0.000000   \n",
       "25%            0.000000        0.000000          0.000000         0.000000   \n",
       "50%            0.000000        0.000000          0.000000         0.000000   \n",
       "75%            0.000000        0.000000          0.000000         0.000000   \n",
       "max            1.000000        1.000000          1.000000         1.000000   \n",
       "\n",
       "       ...    mnth_Oct    mnth_Sep          yr     holiday  workingday  \\\n",
       "count  ...  219.000000  219.000000  219.000000  219.000000  219.000000   \n",
       "mean   ...    0.082192    0.086758    0.479452    0.036530    0.639269   \n",
       "std    ...    0.275286    0.282125    0.500722    0.188034    0.481313   \n",
       "min    ...    0.000000    0.000000    0.000000    0.000000    0.000000   \n",
       "25%    ...    0.000000    0.000000    0.000000    0.000000    0.000000   \n",
       "50%    ...    0.000000    0.000000    0.000000    0.000000    1.000000   \n",
       "75%    ...    0.000000    0.000000    1.000000    0.000000    1.000000   \n",
       "max    ...    1.000000    1.000000    1.000000    1.000000    1.000000   \n",
       "\n",
       "             temp       atemp         hum   windspeed         cnt  \n",
       "count  219.000000  219.000000  219.000000  219.000000  219.000000  \n",
       "mean     0.558941    0.532991    0.638508    0.313350    0.520592  \n",
       "std      0.233698    0.217888    0.148974    0.159947    0.218435  \n",
       "min      0.046591    0.025950    0.261915   -0.042808    0.048205  \n",
       "25%      0.354650    0.344751    0.527265    0.198517    0.377531  \n",
       "50%      0.558691    0.549198    0.627737    0.299459    0.524275  \n",
       "75%      0.759096    0.714132    0.743928    0.403048    0.672745  \n",
       "max      0.984424    0.980934    1.002146    0.807474    0.963300  \n",
       "\n",
       "[8 rows x 30 columns]"
      ]
     },
     "execution_count": 62,
     "metadata": {},
     "output_type": "execute_result"
    }
   ],
   "source": [
    "test.describe()"
   ]
  },
  {
   "cell_type": "code",
   "execution_count": 63,
   "metadata": {},
   "outputs": [],
   "source": [
    "## Spitting into X_test and y_test \n",
    "\n",
    "y_test=test.pop('cnt')\n",
    "X_test=test"
   ]
  },
  {
   "cell_type": "code",
   "execution_count": 64,
   "metadata": {},
   "outputs": [],
   "source": [
    "# Adding constant to Dataframe \n",
    "X_test=sm.add_constant(X_test)"
   ]
  },
  {
   "cell_type": "code",
   "execution_count": 65,
   "metadata": {},
   "outputs": [
    {
     "data": {
      "text/plain": [
       "Index(['const', 'season_Spring', 'season_Summer', 'season_Winter',\n",
       "       'weathersit_Light Snow & Rain', 'weathersit_Mist & Cloudy', 'mnth_Dec',\n",
       "       'mnth_Jan', 'mnth_Jul', 'mnth_Nov', 'mnth_Sep', 'yr', 'holiday', 'temp',\n",
       "       'windspeed'],\n",
       "      dtype='object')"
      ]
     },
     "execution_count": 65,
     "metadata": {},
     "output_type": "execute_result"
    }
   ],
   "source": [
    "test_cols=X_train_lm.columns\n",
    "test_cols"
   ]
  },
  {
   "cell_type": "code",
   "execution_count": 66,
   "metadata": {},
   "outputs": [
    {
     "name": "stdout",
     "output_type": "stream",
     "text": [
      "<class 'pandas.core.frame.DataFrame'>\n",
      "Int64Index: 219 entries, 184 to 72\n",
      "Data columns (total 15 columns):\n",
      " #   Column                        Non-Null Count  Dtype  \n",
      "---  ------                        --------------  -----  \n",
      " 0   const                         219 non-null    float64\n",
      " 1   season_Spring                 219 non-null    uint8  \n",
      " 2   season_Summer                 219 non-null    uint8  \n",
      " 3   season_Winter                 219 non-null    uint8  \n",
      " 4   weathersit_Light Snow & Rain  219 non-null    uint8  \n",
      " 5   weathersit_Mist & Cloudy      219 non-null    uint8  \n",
      " 6   mnth_Dec                      219 non-null    uint8  \n",
      " 7   mnth_Jan                      219 non-null    uint8  \n",
      " 8   mnth_Jul                      219 non-null    uint8  \n",
      " 9   mnth_Nov                      219 non-null    uint8  \n",
      " 10  mnth_Sep                      219 non-null    uint8  \n",
      " 11  yr                            219 non-null    int64  \n",
      " 12  holiday                       219 non-null    int64  \n",
      " 13  temp                          219 non-null    float64\n",
      " 14  windspeed                     219 non-null    float64\n",
      "dtypes: float64(3), int64(2), uint8(10)\n",
      "memory usage: 12.4 KB\n"
     ]
    }
   ],
   "source": [
    "X_test=X_test[test_cols[1:]]\n",
    "X_test=sm.add_constant(X_test)\n",
    "X_test.info()"
   ]
  },
  {
   "cell_type": "code",
   "execution_count": 67,
   "metadata": {},
   "outputs": [
    {
     "data": {
      "text/html": [
       "<div>\n",
       "<style scoped>\n",
       "    .dataframe tbody tr th:only-of-type {\n",
       "        vertical-align: middle;\n",
       "    }\n",
       "\n",
       "    .dataframe tbody tr th {\n",
       "        vertical-align: top;\n",
       "    }\n",
       "\n",
       "    .dataframe thead th {\n",
       "        text-align: right;\n",
       "    }\n",
       "</style>\n",
       "<table border=\"1\" class=\"dataframe\">\n",
       "  <thead>\n",
       "    <tr style=\"text-align: right;\">\n",
       "      <th></th>\n",
       "      <th>const</th>\n",
       "      <th>season_Spring</th>\n",
       "      <th>season_Summer</th>\n",
       "      <th>season_Winter</th>\n",
       "      <th>weathersit_Light Snow &amp; Rain</th>\n",
       "      <th>weathersit_Mist &amp; Cloudy</th>\n",
       "      <th>mnth_Dec</th>\n",
       "      <th>mnth_Jan</th>\n",
       "      <th>mnth_Jul</th>\n",
       "      <th>mnth_Nov</th>\n",
       "      <th>mnth_Sep</th>\n",
       "      <th>yr</th>\n",
       "      <th>holiday</th>\n",
       "      <th>temp</th>\n",
       "      <th>windspeed</th>\n",
       "    </tr>\n",
       "  </thead>\n",
       "  <tbody>\n",
       "    <tr>\n",
       "      <th>count</th>\n",
       "      <td>219.0</td>\n",
       "      <td>219.000000</td>\n",
       "      <td>219.000000</td>\n",
       "      <td>219.000000</td>\n",
       "      <td>219.000000</td>\n",
       "      <td>219.000000</td>\n",
       "      <td>219.000000</td>\n",
       "      <td>219.000000</td>\n",
       "      <td>219.000000</td>\n",
       "      <td>219.000000</td>\n",
       "      <td>219.000000</td>\n",
       "      <td>219.000000</td>\n",
       "      <td>219.000000</td>\n",
       "      <td>219.000000</td>\n",
       "      <td>219.000000</td>\n",
       "    </tr>\n",
       "    <tr>\n",
       "      <th>mean</th>\n",
       "      <td>1.0</td>\n",
       "      <td>0.255708</td>\n",
       "      <td>0.264840</td>\n",
       "      <td>0.232877</td>\n",
       "      <td>0.027397</td>\n",
       "      <td>0.319635</td>\n",
       "      <td>0.086758</td>\n",
       "      <td>0.077626</td>\n",
       "      <td>0.105023</td>\n",
       "      <td>0.073059</td>\n",
       "      <td>0.086758</td>\n",
       "      <td>0.479452</td>\n",
       "      <td>0.036530</td>\n",
       "      <td>0.558941</td>\n",
       "      <td>0.313350</td>\n",
       "    </tr>\n",
       "    <tr>\n",
       "      <th>std</th>\n",
       "      <td>0.0</td>\n",
       "      <td>0.437258</td>\n",
       "      <td>0.442259</td>\n",
       "      <td>0.423633</td>\n",
       "      <td>0.163612</td>\n",
       "      <td>0.467403</td>\n",
       "      <td>0.282125</td>\n",
       "      <td>0.268194</td>\n",
       "      <td>0.307285</td>\n",
       "      <td>0.260830</td>\n",
       "      <td>0.282125</td>\n",
       "      <td>0.500722</td>\n",
       "      <td>0.188034</td>\n",
       "      <td>0.233698</td>\n",
       "      <td>0.159947</td>\n",
       "    </tr>\n",
       "    <tr>\n",
       "      <th>min</th>\n",
       "      <td>1.0</td>\n",
       "      <td>0.000000</td>\n",
       "      <td>0.000000</td>\n",
       "      <td>0.000000</td>\n",
       "      <td>0.000000</td>\n",
       "      <td>0.000000</td>\n",
       "      <td>0.000000</td>\n",
       "      <td>0.000000</td>\n",
       "      <td>0.000000</td>\n",
       "      <td>0.000000</td>\n",
       "      <td>0.000000</td>\n",
       "      <td>0.000000</td>\n",
       "      <td>0.000000</td>\n",
       "      <td>0.046591</td>\n",
       "      <td>-0.042808</td>\n",
       "    </tr>\n",
       "    <tr>\n",
       "      <th>25%</th>\n",
       "      <td>1.0</td>\n",
       "      <td>0.000000</td>\n",
       "      <td>0.000000</td>\n",
       "      <td>0.000000</td>\n",
       "      <td>0.000000</td>\n",
       "      <td>0.000000</td>\n",
       "      <td>0.000000</td>\n",
       "      <td>0.000000</td>\n",
       "      <td>0.000000</td>\n",
       "      <td>0.000000</td>\n",
       "      <td>0.000000</td>\n",
       "      <td>0.000000</td>\n",
       "      <td>0.000000</td>\n",
       "      <td>0.354650</td>\n",
       "      <td>0.198517</td>\n",
       "    </tr>\n",
       "    <tr>\n",
       "      <th>50%</th>\n",
       "      <td>1.0</td>\n",
       "      <td>0.000000</td>\n",
       "      <td>0.000000</td>\n",
       "      <td>0.000000</td>\n",
       "      <td>0.000000</td>\n",
       "      <td>0.000000</td>\n",
       "      <td>0.000000</td>\n",
       "      <td>0.000000</td>\n",
       "      <td>0.000000</td>\n",
       "      <td>0.000000</td>\n",
       "      <td>0.000000</td>\n",
       "      <td>0.000000</td>\n",
       "      <td>0.000000</td>\n",
       "      <td>0.558691</td>\n",
       "      <td>0.299459</td>\n",
       "    </tr>\n",
       "    <tr>\n",
       "      <th>75%</th>\n",
       "      <td>1.0</td>\n",
       "      <td>1.000000</td>\n",
       "      <td>1.000000</td>\n",
       "      <td>0.000000</td>\n",
       "      <td>0.000000</td>\n",
       "      <td>1.000000</td>\n",
       "      <td>0.000000</td>\n",
       "      <td>0.000000</td>\n",
       "      <td>0.000000</td>\n",
       "      <td>0.000000</td>\n",
       "      <td>0.000000</td>\n",
       "      <td>1.000000</td>\n",
       "      <td>0.000000</td>\n",
       "      <td>0.759096</td>\n",
       "      <td>0.403048</td>\n",
       "    </tr>\n",
       "    <tr>\n",
       "      <th>max</th>\n",
       "      <td>1.0</td>\n",
       "      <td>1.000000</td>\n",
       "      <td>1.000000</td>\n",
       "      <td>1.000000</td>\n",
       "      <td>1.000000</td>\n",
       "      <td>1.000000</td>\n",
       "      <td>1.000000</td>\n",
       "      <td>1.000000</td>\n",
       "      <td>1.000000</td>\n",
       "      <td>1.000000</td>\n",
       "      <td>1.000000</td>\n",
       "      <td>1.000000</td>\n",
       "      <td>1.000000</td>\n",
       "      <td>0.984424</td>\n",
       "      <td>0.807474</td>\n",
       "    </tr>\n",
       "  </tbody>\n",
       "</table>\n",
       "</div>"
      ],
      "text/plain": [
       "       const  season_Spring  season_Summer  season_Winter  \\\n",
       "count  219.0     219.000000     219.000000     219.000000   \n",
       "mean     1.0       0.255708       0.264840       0.232877   \n",
       "std      0.0       0.437258       0.442259       0.423633   \n",
       "min      1.0       0.000000       0.000000       0.000000   \n",
       "25%      1.0       0.000000       0.000000       0.000000   \n",
       "50%      1.0       0.000000       0.000000       0.000000   \n",
       "75%      1.0       1.000000       1.000000       0.000000   \n",
       "max      1.0       1.000000       1.000000       1.000000   \n",
       "\n",
       "       weathersit_Light Snow & Rain  weathersit_Mist & Cloudy    mnth_Dec  \\\n",
       "count                    219.000000                219.000000  219.000000   \n",
       "mean                       0.027397                  0.319635    0.086758   \n",
       "std                        0.163612                  0.467403    0.282125   \n",
       "min                        0.000000                  0.000000    0.000000   \n",
       "25%                        0.000000                  0.000000    0.000000   \n",
       "50%                        0.000000                  0.000000    0.000000   \n",
       "75%                        0.000000                  1.000000    0.000000   \n",
       "max                        1.000000                  1.000000    1.000000   \n",
       "\n",
       "         mnth_Jan    mnth_Jul    mnth_Nov    mnth_Sep          yr     holiday  \\\n",
       "count  219.000000  219.000000  219.000000  219.000000  219.000000  219.000000   \n",
       "mean     0.077626    0.105023    0.073059    0.086758    0.479452    0.036530   \n",
       "std      0.268194    0.307285    0.260830    0.282125    0.500722    0.188034   \n",
       "min      0.000000    0.000000    0.000000    0.000000    0.000000    0.000000   \n",
       "25%      0.000000    0.000000    0.000000    0.000000    0.000000    0.000000   \n",
       "50%      0.000000    0.000000    0.000000    0.000000    0.000000    0.000000   \n",
       "75%      0.000000    0.000000    0.000000    0.000000    1.000000    0.000000   \n",
       "max      1.000000    1.000000    1.000000    1.000000    1.000000    1.000000   \n",
       "\n",
       "             temp   windspeed  \n",
       "count  219.000000  219.000000  \n",
       "mean     0.558941    0.313350  \n",
       "std      0.233698    0.159947  \n",
       "min      0.046591   -0.042808  \n",
       "25%      0.354650    0.198517  \n",
       "50%      0.558691    0.299459  \n",
       "75%      0.759096    0.403048  \n",
       "max      0.984424    0.807474  "
      ]
     },
     "execution_count": 67,
     "metadata": {},
     "output_type": "execute_result"
    }
   ],
   "source": [
    "X_test.describe()"
   ]
  },
  {
   "cell_type": "code",
   "execution_count": 68,
   "metadata": {},
   "outputs": [],
   "source": [
    "y_pred=lm.predict(X_test)"
   ]
  },
  {
   "cell_type": "markdown",
   "metadata": {},
   "source": [
    "### R2 Score of Final Model"
   ]
  },
  {
   "cell_type": "code",
   "execution_count": 69,
   "metadata": {},
   "outputs": [
    {
     "data": {
      "text/plain": [
       "0.8132736736429255"
      ]
     },
     "execution_count": 69,
     "metadata": {},
     "output_type": "execute_result"
    }
   ],
   "source": [
    "from sklearn.metrics import r2_score\n",
    "r2_score(y_test, y_pred)"
   ]
  },
  {
   "cell_type": "markdown",
   "metadata": {},
   "source": [
    "### Last Step - Model Evalutions "
   ]
  },
  {
   "cell_type": "code",
   "execution_count": 70,
   "metadata": {},
   "outputs": [
    {
     "data": {
      "image/png": "[encoded data removed]",
      "text/plain": [
       "<Figure size 576x576 with 1 Axes>"
      ]
     },
     "metadata": {
      "needs_background": "light"
     },
     "output_type": "display_data"
    }
   ],
   "source": [
    "plt.figure(figsize=(8,8))\n",
    "sns.scatterplot(y_test, y_pred)\n",
    "\n",
    "plt.title(\"y_test vs y_pred\", size=20, color='g')\n",
    "plt.xlabel('y_test', fontsize=20)\n",
    "plt.ylabel('y_pred', fontsize=20)\n",
    "plt.show()"
   ]
  },
  {
   "cell_type": "code",
   "execution_count": 71,
   "metadata": {},
   "outputs": [
    {
     "data": {
      "text/html": [
       "<div>\n",
       "<style scoped>\n",
       "    .dataframe tbody tr th:only-of-type {\n",
       "        vertical-align: middle;\n",
       "    }\n",
       "\n",
       "    .dataframe tbody tr th {\n",
       "        vertical-align: top;\n",
       "    }\n",
       "\n",
       "    .dataframe thead th {\n",
       "        text-align: right;\n",
       "    }\n",
       "</style>\n",
       "<table border=\"1\" class=\"dataframe\">\n",
       "  <thead>\n",
       "    <tr style=\"text-align: right;\">\n",
       "      <th></th>\n",
       "      <th>Variables</th>\n",
       "      <th>Coeff Value</th>\n",
       "    </tr>\n",
       "    <tr>\n",
       "      <th>index</th>\n",
       "      <th></th>\n",
       "      <th></th>\n",
       "    </tr>\n",
       "  </thead>\n",
       "  <tbody>\n",
       "    <tr>\n",
       "      <th>13</th>\n",
       "      <td>temp</td>\n",
       "      <td>0.437655</td>\n",
       "    </tr>\n",
       "    <tr>\n",
       "      <th>0</th>\n",
       "      <td>const</td>\n",
       "      <td>0.246635</td>\n",
       "    </tr>\n",
       "    <tr>\n",
       "      <th>11</th>\n",
       "      <td>yr</td>\n",
       "      <td>0.234287</td>\n",
       "    </tr>\n",
       "    <tr>\n",
       "      <th>3</th>\n",
       "      <td>season_Winter</td>\n",
       "      <td>0.088652</td>\n",
       "    </tr>\n",
       "    <tr>\n",
       "      <th>10</th>\n",
       "      <td>mnth_Sep</td>\n",
       "      <td>0.068219</td>\n",
       "    </tr>\n",
       "    <tr>\n",
       "      <th>2</th>\n",
       "      <td>season_Summer</td>\n",
       "      <td>0.033271</td>\n",
       "    </tr>\n",
       "    <tr>\n",
       "      <th>9</th>\n",
       "      <td>mnth_Nov</td>\n",
       "      <td>-0.041852</td>\n",
       "    </tr>\n",
       "    <tr>\n",
       "      <th>6</th>\n",
       "      <td>mnth_Dec</td>\n",
       "      <td>-0.044529</td>\n",
       "    </tr>\n",
       "    <tr>\n",
       "      <th>7</th>\n",
       "      <td>mnth_Jan</td>\n",
       "      <td>-0.050270</td>\n",
       "    </tr>\n",
       "    <tr>\n",
       "      <th>8</th>\n",
       "      <td>mnth_Jul</td>\n",
       "      <td>-0.050376</td>\n",
       "    </tr>\n",
       "    <tr>\n",
       "      <th>1</th>\n",
       "      <td>season_Spring</td>\n",
       "      <td>-0.071640</td>\n",
       "    </tr>\n",
       "    <tr>\n",
       "      <th>5</th>\n",
       "      <td>weathersit_Mist &amp; Cloudy</td>\n",
       "      <td>-0.081442</td>\n",
       "    </tr>\n",
       "    <tr>\n",
       "      <th>12</th>\n",
       "      <td>holiday</td>\n",
       "      <td>-0.091915</td>\n",
       "    </tr>\n",
       "    <tr>\n",
       "      <th>14</th>\n",
       "      <td>windspeed</td>\n",
       "      <td>-0.158596</td>\n",
       "    </tr>\n",
       "    <tr>\n",
       "      <th>4</th>\n",
       "      <td>weathersit_Light Snow &amp; Rain</td>\n",
       "      <td>-0.292892</td>\n",
       "    </tr>\n",
       "  </tbody>\n",
       "</table>\n",
       "</div>"
      ],
      "text/plain": [
       "                          Variables  Coeff Value\n",
       "index                                           \n",
       "13                             temp     0.437655\n",
       "0                             const     0.246635\n",
       "11                               yr     0.234287\n",
       "3                     season_Winter     0.088652\n",
       "10                         mnth_Sep     0.068219\n",
       "2                     season_Summer     0.033271\n",
       "9                          mnth_Nov    -0.041852\n",
       "6                          mnth_Dec    -0.044529\n",
       "7                          mnth_Jan    -0.050270\n",
       "8                          mnth_Jul    -0.050376\n",
       "1                     season_Spring    -0.071640\n",
       "5          weathersit_Mist & Cloudy    -0.081442\n",
       "12                          holiday    -0.091915\n",
       "14                        windspeed    -0.158596\n",
       "4      weathersit_Light Snow & Rain    -0.292892"
      ]
     },
     "execution_count": 71,
     "metadata": {},
     "output_type": "execute_result"
    }
   ],
   "source": [
    "final=pd.DataFrame(lm.params)\n",
    "final.insert(0,'Variables', final.index)\n",
    "final.rename(columns={0:'Coeff Value'} ,inplace=True)\n",
    "final['index']=list(range(0,15))\n",
    "final.set_index('index', inplace=True)\n",
    "final.sort_values(by='Coeff Value', ascending=False, inplace=True)\n",
    "final"
   ]
  },
  {
   "cell_type": "markdown",
   "metadata": {},
   "source": [
    "### We can see that the equations for best fitted line is \n",
    "cnt=.246635 + .4376*temp+ .23*yr+ .088*season_Winter + .06*mnth_Sep+.033*season_Summer -.041*mnth_Nov-.04*mnth_Dec-.05*mnth_jan+\n",
    "-.05*mnth_jul-.07*season_Spring-.08*weathersit_Mist & Cloudy -.09*holiday-.158*windspeed -.29*weathersit_Light Snow & Rain\n",
    "\n",
    "- All the postive coefficents like temp, season_summer indicate that if there will be increase then count will also increased .\n",
    "- Negative Coeffiecnts means increase in these value will decrease in count .\n",
    "\n",
    "#### Top 5 Significant Positive factor \n",
    "\n",
    "- temp\n",
    "- yr\n",
    "- season_Winter\n",
    "- mnth_Sep\n",
    "- season_Summer\n",
    "\n",
    "#### Top 3 Negative Factor \n",
    "\n",
    "- weathersit_Light Snow & Rain\n",
    "- windspeed\n",
    "- holiday"
   ]
  },
  {
   "cell_type": "code",
   "execution_count": null,
   "metadata": {},
   "outputs": [],
   "source": []
  }
 ],
 "metadata": {
  "kernelspec": {
   "display_name": "Python 3",
   "language": "python",
   "name": "python3"
  },
  "language_info": {
   "codemirror_mode": {
    "name": "ipython",
    "version": 3
   },
   "file_extension": ".py",
   "mimetype": "text/x-python",
   "name": "python",
   "nbconvert_exporter": "python",
   "pygments_lexer": "ipython3",
   "version": "3.8.5"
  }
 },
 "nbformat": 4,
 "nbformat_minor": 4
}
